{
 "cells": [
  {
   "cell_type": "markdown",
   "metadata": {},
   "source": [
    "## 1.0.3. Guess & Check vs Bisection Search and Approximations"
   ]
  },
  {
   "cell_type": "markdown",
   "metadata": {},
   "source": [
    "## Learning Objectives\n",
    "\n",
    "* [Guess and Check](#Guess)\n",
    "* [Approximation Algorithm](#appr)\n",
    "* [Bisection search](#Bisection)\n",
    "* [Compare performance of guess&check VS bisection](#compare)\n"
   ]
  },
  {
   "cell_type": "markdown",
   "metadata": {},
   "source": [
    "So far, we know integers, floats, bools. We know a bit of string manipulation, math operations. We added, recently, these conditionals and branching to write slightly more interesting programs. Then we have loops, for and while loops to add interesting and more complicated programs. \n",
    "<br>Now, we're going to look at three algorithms, all in the context of solving one problem, which is finding the cube root:\n",
    "\n",
    "1. Guess and check\n",
    "2. Approximation algorithm\n",
    "3. Bisection search\n",
    "\n",
    "## Guess and Check\n",
    "* You might have done this in math, in high school. \n",
    "* The process below also called **exhaustive enumeration**: You guess the solution and do it systematically until you find a solution or you've guessed all the possible values, you've **exhausted all of your search space.**\n",
    "\n",
    "* Given a problem, the steps you need to follow are:\n",
    "    * You are able to **guess a value** for solution (let's say, find the cube root of a number)\n",
    "    * You are able to **check if the solution is correct**\n",
    "    * Keep guessing until find solution or guessed all values\n",
    "\n",
    "<br>Here's a very simple guess and check code that finds the cube root of a number. So we're trying to find the cube root of 8. \n",
    "* Our cube is 8. \n",
    "* We're going to have a for loop that says, we're going to start from 0 and go all the way up to 8. \n",
    "* For every one of these numbers, we're going to say, is our guess to the power of 3 equal to the cube 8? \n",
    "* And if it is, we're going to print out this message.\n",
    "\n"
   ]
  },
  {
   "cell_type": "code",
   "execution_count": 2,
   "metadata": {},
   "outputs": [
    {
     "name": "stdout",
     "output_type": "stream",
     "text": [
      "Cube root of 8 is 2\n"
     ]
    }
   ],
   "source": [
    "cube = 8\n",
    "for guess in range(cube+1):                       # remember, range 0..9 means [0,1,2,3,4,5,6,7,8]\n",
    "    if guess**3 == cube:                          # check if 0*0*0 = 8\n",
    "        print(\"Cube root of\", cube, \"is\", guess)"
   ]
  },
  {
   "cell_type": "markdown",
   "metadata": {},
   "source": [
    "Pretty simple, however, this code is not very user friendly, right? If the user wants to find the cube root of 9, they're not going to get any output, because we never print anything in the case of the guess not being a perfect cube.\n",
    "<br>So we can modify the code a little bit to add two extra features: \n",
    "1. We're going to be able to deal with negative cubes.\n",
    "2. We're going to tell the user, if the cube is not a perfect cube: \"hey, this cube is not a perfect cube.\"\n",
    "\n",
    "<img src=\"images/perfect.png\" style=\"display:block; margin-left: auto; margin-right:auto; width:30%\"/><br>\n",
    "Source: ([Click here](https://qph.fs.quoracdn.net/main-qimg-d3bdbac6571b0857664fc16ce5523d75.webp))"
   ]
  },
  {
   "cell_type": "code",
   "execution_count": 4,
   "metadata": {},
   "outputs": [
    {
     "name": "stdout",
     "output_type": "stream",
     "text": [
      "Cube root of 8 is 2\n"
     ]
    }
   ],
   "source": [
    "## Code break\n",
    "\n",
    "cube = 8\n",
    "\n",
    "## Write a loop that iterates over different guesses and breaks once we've found the cube root of 8\n",
    "\n",
    "## If not a perfect cube (didn't break from the loop), print that it's not a perfect cube\n",
    "\n",
    "## Else, print an saying what the cube root is (try and account for potentially negative cubes)\n",
    "else:\n",
    "    if cube < 0:                   # applied first feature\n",
    "        guess = -guess        \n",
    "    print('Cube root of '+str(cube)+' is '+str(guess))"
   ]
  },
  {
   "cell_type": "markdown",
   "metadata": {},
   "source": [
    "### Your Turn!\n",
    "Go and try to change cube variable in the example above. 9 is not a perfect cube so we need to see the warning. Try and run the code."
   ]
  },
  {
   "cell_type": "code",
   "execution_count": null,
   "metadata": {},
   "outputs": [],
   "source": [
    "# Solutions\n",
    "cube = 8\n",
    "for guess in range(abs(cube)+1):\n",
    "    if guess**3 >= abs(cube):\n",
    "        break\n",
    "if guess**3 != abs(cube):\n",
    "    print(cube, 'is not a perfect cube')\n",
    "else:\n",
    "    if cube < 0:\n",
    "        guess = -guess        \n",
    "    print('Cube root of '+str(cube)+' is '+str(guess))"
   ]
  },
  {
   "cell_type": "markdown",
   "metadata": {},
   "source": [
    "<a id='appr'></a>\n",
    "## Approximation Algorithm\n"
   ]
  },
  {
   "cell_type": "markdown",
   "metadata": {},
   "source": [
    "Sometimes, you might want to say, I don't care that 9 is not a perfect cube, just give me a close enough answer. So that's where **approximate solutions** come in. So this is where we're okay with having a **good enough** solution.\n",
    "* start with a guess and increment by some **small value**\n",
    "* keep guessing if $|guess^{3}-cube| >= epsilon$ for some **small epsilon**\n",
    "* decreasing increment size &#9658; slower program\n",
    "* increasing epsilon        &#9658; less accurate answer\n",
    "\n",
    "For example, if I would like to find the cube root of 9:\n",
    "- I know that 5 is definitely not a good approximation of the cube root, as $|5^{3}-9| = 116$\n",
    "- What about 2.08? Well $|guess^{3}-cube| = |2.08^{3}-9| = |8.999 - 9| = 0.001$, which is pretty small, meaning 2.08 may be a reasonable approximation\n",
    "\n",
    "<br>In order to do that, we're going to start with a guess and then increment that guess by some small value. Start from 0 and start incrementing by 0.001 and just go upwards from there. And at some point, we might find a good enough solution.\n",
    "<br>In this program, we're going to keep guessing as long as we're not close enough. So close enough is going to be given by this **epsilon value**. In this case, to define a range, we can use the trick that the cube root of any number greater than 1 __must be somwhere in the range of 0 and the cube__. We know that the cube root of 9 cannot be negative, nor can it be greater than 9!\n"
   ]
  },
  {
   "cell_type": "code",
   "execution_count": 6,
   "metadata": {},
   "outputs": [
    {
     "name": "stdout",
     "output_type": "stream",
     "text": [
      "num_guesses = 29997\n",
      "2.999700000001906 is close to the cube root of 27\n"
     ]
    }
   ],
   "source": [
    "## Code break!\n",
    "\n",
    "cube = 27           # the cube we want to find the cube root of\n",
    "epsilon = 0.01      # close enough value\n",
    "guess = 0.0         # starting guess\n",
    "increment = 0.0001  # incrementing value\n",
    "num_guesses = 0     # keep track of the number of guesses that it takes us to get to the answer\n",
    "\n",
    "## while the the error between the cube of our guess and the cube we have chosen is greater than epsilon, continue guessing\n",
    "\n",
    "## If no guess was good enough within the range we looked for, print an explanation\n",
    "\n",
    "## Print the approximation found via iteration\n"
   ]
  },
  {
   "cell_type": "markdown",
   "metadata": {},
   "source": [
    "## Your Turn!\n",
    "What happens if we increase or decrease epsilon? What's its impact on our program? Try changing epsilon value to see the answer.\n",
    "<br>Do the same changes on increment size too."
   ]
  },
  {
   "cell_type": "code",
   "execution_count": null,
   "metadata": {},
   "outputs": [],
   "source": [
    "# Solutions!\n",
    "cube = 27\n",
    "epsilon = 0.01\n",
    "guess = 0.0\n",
    "increment = 0.0001\n",
    "num_guesses = 0  \n",
    "\n",
    "while abs(guess**3 - cube) >= epsilon:\n",
    "    guess += increment\n",
    "    num_guesses += 1\n",
    "print('num_guesses =', num_guesses)\n",
    "\n",
    "if abs(guess**3 - cube) >= epsilon:\n",
    "    print('Failed on cube root of', cube)\n",
    "else:\n",
    "    print(guess, 'is close to the cube root of', cube)"
   ]
  },
  {
   "cell_type": "markdown",
   "metadata": {},
   "source": [
    "<a id='Bisection'></a>\n",
    "## Bisection search\n"
   ]
  },
  {
   "cell_type": "markdown",
   "metadata": {},
   "source": [
    "Let's say we want to search and find the right number faster. What can we do about it? We can use **Bisection Search!**\n",
    "<br>The idea is simple: divide the interval in two, a solution must exist within one subinterval, select the subinterval where the sign of changes and repeat.\n",
    "\n",
    "* half interval each iteration\n",
    "* new guess is halfway in between\n",
    "* to illustrate it:\n",
    "\n",
    "<br>\n",
    "<img src=\"images\\bisection.png\" style=\"display:block; margin-left:auto; margin-right:auto; width:50%\"/><br>\n",
    "\n",
    "Source on page 17: ([Click here!](https://ocw.mit.edu/courses/electrical-engineering-and-computer-science/6-0001-introduction-to-computer-science-and-programming-in-python-fall-2016/lecture-slides-code/MIT6_0001F16_Lec3.pdf))\n"
   ]
  },
  {
   "cell_type": "code",
   "execution_count": 3,
   "metadata": {},
   "outputs": [
    {
     "name": "stdout",
     "output_type": "stream",
     "text": [
      "num_guesses = 14\n",
      "3.000091552734375 is close to the cube root of 27\n"
     ]
    }
   ],
   "source": [
    "cube = 27\n",
    "epsilon = 0.01\n",
    "num_guesses = 0\n",
    "low = 0                     # determine low boundary\n",
    "high = cube                 # determine high boundary which is equals to cube\n",
    "guess = (high + low)/2.0    # make a guess, be halfway in between\n",
    "while abs(guess**3 - cube) >= epsilon:    # remember, similar to approximation\n",
    "    if guess**3 < cube :    # should we go left or right?\n",
    "        low = guess\n",
    "    else:\n",
    "        high = guess\n",
    "    guess = (high + low)/2.0   # determine the halfway in between\n",
    "    num_guesses += 1\n",
    "print('num_guesses =', num_guesses)\n",
    "print(guess, 'is close to the cube root of', cube)"
   ]
  },
  {
   "cell_type": "markdown",
   "metadata": {},
   "source": [
    "<a id='compare'></a>\n",
    "## Compare performance of guess&check VS bisection"
   ]
  },
  {
   "cell_type": "markdown",
   "metadata": {},
   "source": [
    "Let's look at the animation below to compare bisection search and guess&check method!\n",
    "\n",
    "<img src=\"images/search.gif\" style=\"display:block; margin-left:auto; margin-right:auto; width:50%\"/><br>\n",
    "Source: ([Click here!](https://miro.medium.com/max/1200/1*QzOblj22OzMQe1ZQOtaxtQ.gif))\n",
    "\n",
    "It took us 3 steps to find the right number!\n",
    "* The larger the space actually is, that we need to search, the better it is to use bisection search method.\n",
    "* Bisection search is more powerful than the guess&check method in finding the root problem."
   ]
  },
  {
   "cell_type": "markdown",
   "metadata": {},
   "source": [
    "### Summary\n",
    "* The process of guees&check also called exhaustive enumeration: You guess the solution and do it systematically until you find a solution or you've guessed all the possible values, you've exhausted all of your search space.\n",
    "* Approximate solutions give us a good enough solution.\n",
    "* We need to determine epsilon and increment values for approximation.\n",
    "* The idea behind the bisection search is: divide the interval in two, a solution must exist within one subinterval, select the subinterval where the sign of changes and repeat.\n",
    "* The larger the space actually is, that we need to search, the better it is to use bisection search method."
   ]
  },
  {
   "cell_type": "markdown",
   "metadata": {},
   "source": [
    "# Challenge\n",
    "\n",
    "While not related to guess and bisections search, this will be your most fun challenge yet!\n",
    "\n",
    "<br>You will implement a variation of the classic word game Hangman. If you are unfamiliar with the rules of the game, read http://en.wikipedia.org/wiki/Hangman_(game). Don’t be intimidated by this problem -it's actually easier than it looks! We will 'scaffold' this problem, guiding you through the creation of helper functions before you implement the actual game.\n",
    "\n",
    "\n",
    "You have a fruit list below. The rules are: \n",
    "* In the beginning, assign a word to a variable named 'secret_word'\n",
    "* Ask the player to enter a letter until they guess the word correctly or run out of **allowed attempts**. \n",
    "* The number of attempts allowed is being limited to two more than the number of letters in the secret word. This variable will be used to track the number of attempts remaining as the game progresses.\n",
    "* To determine win / loss, compare the the chosen fruit with the players guessed letters. Print this out to the user!"
   ]
  },
  {
   "cell_type": "code",
   "execution_count": null,
   "metadata": {},
   "outputs": [],
   "source": [
    "fruits = ['pear', 'mango', 'apple', 'banana', 'apricot', 'pineapple','cantaloupe', 'grapefruit','jackfruit','papaya']\n",
    "\n",
    "## Code Here!\n",
    "\n"
   ]
  }
 ],
 "metadata": {
  "kernelspec": {
   "display_name": "Python 3.7.3 64-bit",
   "language": "python",
   "name": "python37364bite72acbb0cda24fc4847ed421ff53abec"
  },
  "language_info": {
   "codemirror_mode": {
    "name": "ipython",
    "version": 3
   },
   "file_extension": ".py",
   "mimetype": "text/x-python",
   "name": "python",
   "nbconvert_exporter": "python",
   "pygments_lexer": "ipython3",
   "version": "3.7.3"
  }
 },
 "nbformat": 4,
 "nbformat_minor": 2
}