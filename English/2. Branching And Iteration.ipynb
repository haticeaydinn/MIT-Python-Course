{
 "cells": [
  {
   "cell_type": "markdown",
   "metadata": {},
   "source": [
    "## 1.0.1. Branching and Iteration"
   ]
  },
  {
   "cell_type": "markdown",
   "metadata": {},
   "source": [
    "## Learning Objectives\n",
    "\n",
    "* [What is type casting in Python](#cast)\n",
    "* [Intro: input() function](#Intro)\n",
    "* [Comparison & logic operators](#Comparison)\n",
    "* [Conditional statements & indentation](#Conditional)\n",
    "* [While/for loops & iterables](#While)\n"
   ]
  },
  {
   "cell_type": "markdown",
   "metadata": {},
   "source": [
    "<a id='cast'></a>\n",
    "## What is type casting in Python\n",
    "There may be times when you want to specify a type on to a variable. This can be done with casting.\n",
    "<br>The process of converting the value of one data type (integer, string, float, etc.) to another data type is called **type casting.** Inbuilt functions _(Python has these function by default)_ int(), float() and str() shall be used for type casting.\n",
    "\n",
    "* **int()** can take a float or string literal as argument and returns a value of class 'int' type.\n",
    "* **float()** can take an int or string literal as argument and returns a value of class 'float' type.\n",
    "* **str()** can take a float or int literal as argument and returns a value of class 'str' type."
   ]
  },
  {
   "cell_type": "code",
   "execution_count": 5,
   "metadata": {},
   "outputs": [
    {
     "name": "stdout",
     "output_type": "stream",
     "text": [
      "100\n",
      "<class 'int'>\n",
      "100.0\n",
      "<class 'float'>\n",
      "100\n",
      "<class 'str'>\n"
     ]
    }
   ],
   "source": [
    "#integer\n",
    "n = 100       # in the beginning, n is an integer\n",
    "print(n)\n",
    "print(type(n))\n",
    "\n",
    "#float\n",
    "f = float(n)   # casting \"n\" integer to flot\n",
    "print(f)\n",
    "print(type(f))\n",
    "\n",
    "#string\n",
    "s = str(n)     # casting \"n\" integer to string\n",
    "print(s)\n",
    "print(type(s))"
   ]
  },
  {
   "cell_type": "markdown",
   "metadata": {},
   "source": [
    "<a id='Intro'></a>\n",
    "## Intro: input() function"
   ]
  },
  {
   "cell_type": "markdown",
   "metadata": {},
   "source": [
    "Before we introduce the input() function, let's get a bit more intuition behind a particular data type. In the last module, we've seen so far integers, which were whole numbers, floats, which were decimal numbers, and we have seen Booleans, which were true and false. Now, we're going to look at a new type of object called a **string**. "
   ]
  },
  {
   "cell_type": "markdown",
   "metadata": {},
   "source": [
    "**Strings** are sequences of characters. And these characters can be anything:\n",
    "* Letters, special characters, spaces, digits\n",
    "\n",
    "Enclose in quotation marks or single quotes so that Python can understand it's a string:"
   ]
  },
  {
   "cell_type": "code",
   "execution_count": 1,
   "metadata": {},
   "outputs": [
    {
     "name": "stdout",
     "output_type": "stream",
     "text": [
      "hello there\n",
      "<class 'str'>\n"
     ]
    }
   ],
   "source": [
    "hi = \"hello there\"\n",
    "print(hi)\n",
    "print(type(hi))"
   ]
  },
  {
   "cell_type": "markdown",
   "metadata": {},
   "source": [
    "We can do two operations with strings:\n",
    "\n",
    "**1. Concatenate**: Means put the strings together:"
   ]
  },
  {
   "cell_type": "code",
   "execution_count": 6,
   "metadata": {},
   "outputs": [
    {
     "name": "stdout",
     "output_type": "stream",
     "text": [
      "greet: hello thereana\n",
      "greeting: hello there ana\n"
     ]
    }
   ],
   "source": [
    "name = \"ana\"                    # create a new string\n",
    "greet = hi + name               # concatenate hi and name variables\n",
    "print(\"greet: \" + greet)        # print out greet variable and attention here: computer didn't add a space\n",
    "                                    # remember computer just doing what it's told! \n",
    "greeting = hi + \" \" + name      # concatenate hi variable, space and name variable so we insert space manually\n",
    "print(\"greeting: \" + greeting)  # print out the new string"
   ]
  },
  {
   "cell_type": "markdown",
   "metadata": {},
   "source": [
    "**2. Star operator**: Stands for multiplication, between a string and a number. When you do that, Python interprets it as repeat that string that many number of times."
   ]
  },
  {
   "cell_type": "code",
   "execution_count": 8,
   "metadata": {},
   "outputs": [
    {
     "name": "stdout",
     "output_type": "stream",
     "text": [
      "hello there ana ana ana\n"
     ]
    }
   ],
   "source": [
    "silly = hi + (\" \" + name) * 3    # we have a string \"space+name\" and a number \"3\", so we'll repeat anna for 3 times\n",
    "print(silly)                     # print out silly variable"
   ]
  },
  {
   "cell_type": "markdown",
   "metadata": {},
   "source": [
    "So far, we learned how to use \"print\". So you use print to interact with the user. It's cool to write programs that print\n",
    "things out to the user so the computer can keep us updated on its progress in human terms, so we can understand whatever it finds out, the list goes on. So the key word here being **print**.\n",
    "\n",
    "* You put parentheses after print. \n",
    "* In the parentheses, you put in whatever you want to show the user.\n"
   ]
  },
  {
   "cell_type": "code",
   "execution_count": 3,
   "metadata": {
    "scrolled": true
   },
   "outputs": [
    {
     "name": "stdout",
     "output_type": "stream",
     "text": [
      "1\n",
      "my fav num is 1 . x = 1\n",
      "my fav num is 1. x = 1\n"
     ]
    }
   ],
   "source": [
    "x = 1            # created a variable named x and assigned it the value 1\n",
    "print(x)         # print it out\n",
    "x_str = str(x)   # casting, we're taking the number one, the integer 1, and casting it to a string\n",
    "                     # you'll see why in a moment we cast it\n",
    "print(\"my fav num is\", x, \".\", \"x =\", x)                  # using commas everywhere here\n",
    "print(\"my fav num is \" + x_str + \". \" + \"x = \" + x_str)   # using plus\n",
    "\n",
    "# if you use a comma, Python is going to automatically add a space in between the two things \n",
    "       # that the comma is in between, the values. "
   ]
  },
  {
   "cell_type": "markdown",
   "metadata": {},
   "source": [
    "**ATTENTION:** We can only concatenate string to string. That's the reason why we cast integer x to string. If we don't cast it, we'll get an error. Run the cell above and see the difference."
   ]
  },
  {
   "cell_type": "code",
   "execution_count": 5,
   "metadata": {
    "scrolled": false
   },
   "outputs": [
    {
     "name": "stdout",
     "output_type": "stream",
     "text": [
      "1\n"
     ]
    },
    {
     "ename": "TypeError",
     "evalue": "can only concatenate str (not \"int\") to str",
     "output_type": "error",
     "traceback": [
      "\u001b[1;31m---------------------------------------------------------------------------\u001b[0m",
      "\u001b[1;31mTypeError\u001b[0m                                 Traceback (most recent call last)",
      "\u001b[1;32m<ipython-input-5-9beec8230865>\u001b[0m in \u001b[0;36m<module>\u001b[1;34m\u001b[0m\n\u001b[0;32m      4\u001b[0m \u001b[0mx_str\u001b[0m \u001b[1;33m=\u001b[0m \u001b[0mx\u001b[0m          \u001b[1;31m# don't cast and x stays as an integer\u001b[0m\u001b[1;33m\u001b[0m\u001b[1;33m\u001b[0m\u001b[0m\n\u001b[0;32m      5\u001b[0m \u001b[1;33m\u001b[0m\u001b[0m\n\u001b[1;32m----> 6\u001b[1;33m \u001b[0mprint\u001b[0m\u001b[1;33m(\u001b[0m\u001b[1;34m\"my fav num is \"\u001b[0m \u001b[1;33m+\u001b[0m \u001b[0mx_str\u001b[0m \u001b[1;33m+\u001b[0m \u001b[1;34m\". \"\u001b[0m \u001b[1;33m+\u001b[0m \u001b[1;34m\"x = \"\u001b[0m \u001b[1;33m+\u001b[0m \u001b[0mx_str\u001b[0m\u001b[1;33m)\u001b[0m\u001b[1;33m\u001b[0m\u001b[1;33m\u001b[0m\u001b[0m\n\u001b[0m",
      "\u001b[1;31mTypeError\u001b[0m: can only concatenate str (not \"int\") to str"
     ]
    }
   ],
   "source": [
    "x = 1              # created a variable named x and assigned it the value 1\n",
    "print(x)           # print it out\n",
    "# x_str = str(x)   # casting, we're taking the number one, the integer 1, and casting it to a string\n",
    "x_str = x          # don't cast and x stays as an integer\n",
    "\n",
    "print(\"my fav num is \" + x_str + \". \" + \"x = \" + x_str)"
   ]
  },
  {
   "cell_type": "markdown",
   "metadata": {},
   "source": [
    "Printing things out to the console is nice, but the second part of sort of writing an interactive program is getting **input** from the user. If you've done \"Exercise 1\" on the last notebook, you might have sort of already tried to understand this on your own.\n",
    "\n",
    "* **input(\"\")**\n",
    "    * Input function prints whatever is in the quotes\n",
    "    * Program stops and waits for the user to type in something and hit Enter."
   ]
  },
  {
   "cell_type": "code",
   "execution_count": 16,
   "metadata": {},
   "outputs": [
    {
     "name": "stdout",
     "output_type": "stream",
     "text": [
      "Type anything... ha\n",
      "hahahahaha\n"
     ]
    }
   ],
   "source": [
    "text = input(\"Type anything... \")   # bind that string object to this variable named \"text\"\n",
    "print(5*text)                       # do whatever I want with this variable text, print text out for 5 times"
   ]
  },
  {
   "cell_type": "markdown",
   "metadata": {},
   "source": [
    "**Your Turn!**\n",
    "\n",
    "What do you think is going to be printed out if we give input \"5\"? 25 or 5 five times? Guess first and run the cell below. Type 5 as the input then press Enter to see the answer:"
   ]
  },
  {
   "cell_type": "code",
   "execution_count": null,
   "metadata": {},
   "outputs": [],
   "source": [
    "text = input(\"Type anything... \")   # type 5 as the input\n",
    "print(5*text)"
   ]
  },
  {
   "cell_type": "markdown",
   "metadata": {},
   "source": [
    "**ATTENTION:** Whatever you type in, just by default, by definition of the input command, Python always makes it a **string**. So if you want to work with numbers, you have to explicitly tell it, you need to **cast** it to integer, float etc. \n",
    "\n",
    "Please type 5 again for the cell below and see the difference:"
   ]
  },
  {
   "cell_type": "code",
   "execution_count": 14,
   "metadata": {},
   "outputs": [
    {
     "name": "stdout",
     "output_type": "stream",
     "text": [
      "Type a number... 5\n",
      "25\n"
     ]
    }
   ],
   "source": [
    "num = int(input(\"Type a number... \"))    # If you want to work with numbers as numbers in your program\n",
    "                                            # then you have to cast string to integer\n",
    "print(5*num)"
   ]
  },
  {
   "cell_type": "markdown",
   "metadata": {},
   "source": [
    "<a id='Comparison'></a>\n",
    "## Comparison & logic operators"
   ]
  },
  {
   "cell_type": "markdown",
   "metadata": {},
   "source": [
    "Before you can start adding tests in your code, you need to be able to do the actual tests. So this is where comparison operators come in. Comparison operators check for particular conditions and return __booleans__ (bools for short), which is a datatype that can only be __True__ or __False__. Hence, if the comparison is true, it will return True, whereas it will return False if the comparison is False."
   ]
  },
  {
   "cell_type": "markdown",
   "metadata": {
    "scrolled": true
   },
   "source": [
    "<img src=\"images/branch_comparison.png\" style=\"display: block; margin-left:auto; margin-right:auto; width:50%\"> <br>"
   ]
  },
  {
   "cell_type": "markdown",
   "metadata": {},
   "source": [
    "You're allowed to compare:\n",
    "* ints with ints\n",
    "* floats with floats\n",
    "* strings with strings\n",
    "* ints and floats between themselves\n",
    "\n",
    "But you're not allowed to compare:\n",
    "* a string with a number"
   ]
  },
  {
   "cell_type": "code",
   "execution_count": 4,
   "metadata": {
    "scrolled": true
   },
   "outputs": [
    {
     "ename": "TypeError",
     "evalue": "'>' not supported between instances of 'str' and 'int'",
     "output_type": "error",
     "traceback": [
      "\u001b[1;31m---------------------------------------------------------------------------\u001b[0m",
      "\u001b[1;31mTypeError\u001b[0m                                 Traceback (most recent call last)",
      "\u001b[1;32m<ipython-input-4-b5effe2bea29>\u001b[0m in \u001b[0;36m<module>\u001b[1;34m\u001b[0m\n\u001b[1;32m----> 1\u001b[1;33m \u001b[1;34m\"a\"\u001b[0m \u001b[1;33m>\u001b[0m \u001b[1;36m5\u001b[0m\u001b[1;33m\u001b[0m\u001b[1;33m\u001b[0m\u001b[0m\n\u001b[0m\u001b[0;32m      2\u001b[0m \u001b[1;33m\u001b[0m\u001b[0m\n\u001b[0;32m      3\u001b[0m \u001b[1;31m# Python doesn't understand, how do I compare a string with a number? So you'll get an error.\u001b[0m\u001b[1;33m\u001b[0m\u001b[1;33m\u001b[0m\u001b[1;33m\u001b[0m\u001b[0m\n",
      "\u001b[1;31mTypeError\u001b[0m: '>' not supported between instances of 'str' and 'int'"
     ]
    }
   ],
   "source": [
    "\"a\" > 5\n",
    "\n",
    "# Python doesn't understand, how do I compare a string with a number? So you'll get an error."
   ]
  },
  {
   "cell_type": "code",
   "execution_count": 25,
   "metadata": {},
   "outputs": [
    {
     "data": {
      "text/plain": [
       "False"
      ]
     },
     "execution_count": 25,
     "metadata": {},
     "output_type": "execute_result"
    }
   ],
   "source": [
    "# greater than\n",
    "4 > 5"
   ]
  },
  {
   "cell_type": "code",
   "execution_count": 24,
   "metadata": {},
   "outputs": [
    {
     "data": {
      "text/plain": [
       "True"
      ]
     },
     "execution_count": 24,
     "metadata": {},
     "output_type": "execute_result"
    }
   ],
   "source": [
    "# less than\n",
    "4 < 5"
   ]
  },
  {
   "cell_type": "code",
   "execution_count": 31,
   "metadata": {},
   "outputs": [
    {
     "data": {
      "text/plain": [
       "True"
      ]
     },
     "execution_count": 31,
     "metadata": {},
     "output_type": "execute_result"
    }
   ],
   "source": [
    "# greater than or equal to\n",
    "14 >= 13"
   ]
  },
  {
   "cell_type": "code",
   "execution_count": 11,
   "metadata": {},
   "outputs": [
    {
     "name": "stdout",
     "output_type": "stream",
     "text": [
      "False\n",
      "True\n"
     ]
    }
   ],
   "source": [
    "i = 5            # the single equals sign is an assignment. So you're taking a value, and you're assigning it to a variable.\n",
    "j = 6            # the single equals sign same as above\n",
    "print(i == j)    # the double equals sign, this is the test for equality. \n",
    "                     # Is the value of variable i the same as the value of the variable j?\n",
    "print(i != j)    # test for inequality with the exclamation equal"
   ]
  },
  {
   "cell_type": "markdown",
   "metadata": {},
   "source": [
    "**Logic operators on bools:** "
   ]
  },
  {
   "cell_type": "markdown",
   "metadata": {},
   "source": [
    "Let's assume that a and b are variable names (with Boolean values)\n",
    "* **not a (inverting)      :** True if a is False / False if a is True\n",
    "* **a and b :** True if both are True\n",
    "* **a or b  :** True if either or both are True\n"
   ]
  },
  {
   "cell_type": "markdown",
   "metadata": {},
   "source": [
    "<img src=\"images/bools.png\" align=\"center\"/> <br>"
   ]
  },
  {
   "cell_type": "markdown",
   "metadata": {},
   "source": [
    "## Exercise:\n",
    "What should be **\"not B\"** according to the table above? Choose the correct answer:\n",
    "<br>a) **False** | **False** | **False** | True\n",
    "<br>b) **False** | True  | **False** | True\n",
    "<br>c) True  | **False** | **False** | True\n",
    "<br>d) **False** | True  | True  | True"
   ]
  },
  {
   "cell_type": "markdown",
   "metadata": {},
   "source": [
    "<details>\n",
    "<summary>Click to see the asnwer</summary>\n",
    "\"b\" is the correct answer !!!\n",
    "</details>"
   ]
  },
  {
   "cell_type": "code",
   "execution_count": 30,
   "metadata": {},
   "outputs": [
    {
     "name": "stdout",
     "output_type": "stream",
     "text": [
      "True\n"
     ]
    }
   ],
   "source": [
    "# comparison example\n",
    "pset_time = 15\n",
    "sleep_time = 8\n",
    "print(sleep_time < pset_time)"
   ]
  },
  {
   "cell_type": "code",
   "execution_count": 29,
   "metadata": {},
   "outputs": [
    {
     "name": "stdout",
     "output_type": "stream",
     "text": [
      "False\n"
     ]
    }
   ],
   "source": [
    "# logic example\n",
    "derive = True\n",
    "drink = False\n",
    "both = drink and derive\n",
    "print(both)"
   ]
  },
  {
   "cell_type": "markdown",
   "metadata": {},
   "source": [
    "**Your Turn!**\n",
    "\n",
    "What does it mean to compare a string with a string with the greater than? Can you compare them? For example, compare if a is greater than b. Write your code below and run the cell to see the answer:"
   ]
  },
  {
   "cell_type": "code",
   "execution_count": 15,
   "metadata": {},
   "outputs": [],
   "source": [
    "# Your code is here!\n",
    "\n"
   ]
  },
  {
   "cell_type": "markdown",
   "metadata": {},
   "source": [
    "<a id='Conditional'></a>\n",
    "## Conditional statements & indentation"
   ]
  },
  {
   "cell_type": "markdown",
   "metadata": {},
   "source": [
    "In our daily life, we make a lot of decisions without noticing.\n",
    "As a basic example, when we want to cross the road, we wait at the traffic light and make decision according to the light color.\n",
    "* If the color is red, then stop\n",
    "* If the color is green, then walk\n"
   ]
  },
  {
   "cell_type": "markdown",
   "metadata": {
    "scrolled": false
   },
   "source": [
    "<br>\n",
    "<img src=\"images/beatles.gif\" align=\"center\"/> <br>\n",
    "\n",
    "([Source](https://i.pinimg.com/originals/dc/11/8d/dc118d9e6648f96c9c49e4769e7494b2.gif))<br>"
   ]
  },
  {
   "cell_type": "markdown",
   "metadata": {},
   "source": [
    "In programming, there's three sort of simple ways that you can add some explicit control flow to your programs. And that's making one decision and choosing whether to execute something or execute something else. The first is a simple **if statement**.\n",
    "\n",
    "* An if statement is a piece of code that causes another piece of code to be executed based on the fulfillment of a condition.\n",
    "* If statements employ boolean operators to check whether something is true, and so whether or not to execute a piece of code.\n",
    "* The basic syntax for an if statement in pseudo-code is as follows:"
   ]
  },
  {
   "cell_type": "code",
   "execution_count": null,
   "metadata": {},
   "outputs": [],
   "source": [
    "# if some_condition:\n",
    "#     do_something"
   ]
  },
  {
   "cell_type": "markdown",
   "metadata": {},
   "source": [
    "* Some_condition has a boolean value that can either be True or False.\n",
    "* We evaluate this condition and if it is True then do_something will be executed. This means, computer will do whatever we said in the do_something."
   ]
  },
  {
   "cell_type": "code",
   "execution_count": null,
   "metadata": {},
   "outputs": [],
   "source": [
    "x = 2\n",
    "\n",
    "if x==2:             # condition\n",
    "    print(\"Great!\")  # do someting"
   ]
  },
  {
   "cell_type": "markdown",
   "metadata": {},
   "source": [
    "* Note the **indentation**: Python determines precedence based on indentation/whitespace rather than brackets, like other languages.\n",
    "* The standard practice for indentation as recommended by PEP8 guidelines is 4 spaces, but you can also use a tab.\n",
    "* However, you cannot mix spaces and tabs for indentation.\n",
    "* Jupyter Notebook - like many other IDEs - will automatically indent after a colon."
   ]
  },
  {
   "cell_type": "markdown",
   "metadata": {},
   "source": [
    "**Elif and else statements:**\n",
    "* What if the condition is False and we want to do someting else? Then we use **\"else\"** to make decision.\n",
    "* What if we have more than one condition? Then we use **\"elif\"** to make decision."
   ]
  },
  {
   "cell_type": "markdown",
   "metadata": {},
   "source": [
    "* Elif ('else if') statements add a block of code to be executed if the first condition is not fulfilled. You can have more than one \"elif\" in your program.\n",
    "* Else statements add a block of code to be executed if none of the previous conditions are fulfilled.\n",
    "* You always enter one condition, and you enter the first one that evaluates to true. Keep in mind!\n",
    "* The syntax is as follows, again note the whitespace alignment:"
   ]
  },
  {
   "cell_type": "code",
   "execution_count": 8,
   "metadata": {},
   "outputs": [],
   "source": [
    "# if some_condition:\n",
    "#     do_something\n",
    "# elif some_other_condition:\n",
    "#     do_something_else\n",
    "# else:\n",
    "#     do_this"
   ]
  },
  {
   "cell_type": "markdown",
   "metadata": {},
   "source": [
    "---\n",
    "### Attention!\n",
    "* If statements must always go at the _beginning_\n",
    "* Elif statements only in _between the two_ (can't have elif without if)\n",
    "* Else statements must always go at the _end_\n",
    "\n",
    "The order is really important when we work with conditions!\n",
    "\n",
    "---"
   ]
  },
  {
   "cell_type": "markdown",
   "metadata": {},
   "source": [
    "<br>\n",
    "<img src=\"images/Else-if.png\" style=\"display:block; margin-left:auto; margin-right:auto; width:40%\"/> <br>\n",
    "\n",
    "([Source](https://usercontent.one/wp/code-knowledge.com/wp-content/uploads/2019/10/Else-if.png))<br>\n"
   ]
  },
  {
   "cell_type": "code",
   "execution_count": 12,
   "metadata": {},
   "outputs": [
    {
     "name": "stdout",
     "output_type": "stream",
     "text": [
      "Enter a number for x: 6\n",
      "Enter a number for y: 5\n",
      "y is smaller\n",
      "thanks!\n"
     ]
    }
   ],
   "source": [
    "x = float(input(\"Enter a number for x: \"))\n",
    "y = float(input(\"Enter a number for y: \"))\n",
    "\n",
    "if x == y:                                 # first condition\n",
    "    print(\"x and y are equal\")             \n",
    "    if y != 0:                                 # this is an nested condition, it'll be executed only if x equals to y\n",
    "        print(\"therefore, x / y is\", x/y)\n",
    "elif x < y:                                # second condition\n",
    "    print(\"x is smaller\")\n",
    "else:                                      # none of the above conditions are true, then just do this last set of expression\n",
    "    print(\"y is smaller\")\n",
    "print(\"thanks!\")\n"
   ]
  },
  {
   "cell_type": "markdown",
   "metadata": {},
   "source": [
    "**Your Turn!**\n",
    "\n",
    "Can you guess what's wrong with the code below? Please explain the mistake. Can you fix it?"
   ]
  },
  {
   "cell_type": "code",
   "execution_count": 15,
   "metadata": {},
   "outputs": [
    {
     "ename": "SyntaxError",
     "evalue": "invalid syntax (<ipython-input-15-cd33061611bc>, line 3)",
     "output_type": "error",
     "traceback": [
      "\u001b[1;36m  File \u001b[1;32m\"<ipython-input-15-cd33061611bc>\"\u001b[1;36m, line \u001b[1;32m3\u001b[0m\n\u001b[1;33m    if x%2 = 0:\u001b[0m\n\u001b[1;37m           ^\u001b[0m\n\u001b[1;31mSyntaxError\u001b[0m\u001b[1;31m:\u001b[0m invalid syntax\n"
     ]
    }
   ],
   "source": [
    "x = 10\n",
    "\n",
    "if x%2 = 0:\n",
    "    print(\"x is even\")\n",
    "else:\n",
    "    print(\"x is odd\")"
   ]
  },
  {
   "cell_type": "markdown",
   "metadata": {},
   "source": [
    "<a id='While'></a>\n",
    "## While/for loops & iterables"
   ]
  },
  {
   "cell_type": "markdown",
   "metadata": {},
   "source": [
    "Suppose, you lost your house key and there are 7 different keys on your keychain. You don't know which one opens the door. So in order to get in the house, you need to try every key until the door opens.\n",
    "This is an example of the **loop.** You continue to take the same action until a condition is met.\n",
    "\n",
    "* Iterable: data structure capable of returning its elements one at a time e.g. list, tuple, string, dictionary(d.keys() returns a list).\n",
    "* Iteration: performing the same operation repeatedly (often over each element of an iterable).\n",
    "* e.g. multiplying each element in a list by 2, or taking index 0 of each item in a list of strings. \n",
    "\n",
    "Back to the keys example, our **condition** is \"open the door\". Until we open the door, we need to **do something**: Try the keys one by one. \n",
    "<br>That's basically how a **while loop** works !!!\n",
    "<br>\n",
    "<img src=\"images/keys.jpg\" style=\"display:block; margin-left:auto; margin-right:auto; width:40%\"/> <br>\n",
    "\n",
    "([Source](https://www.rent.com.au/agents/blog/wp-content/uploads/2017/08/minimising-stress-around-the-vacate.jpg))<br>"
   ]
  },
  {
   "cell_type": "code",
   "execution_count": 7,
   "metadata": {},
   "outputs": [],
   "source": [
    "# while some_condition:\n",
    "#     do_something\n",
    "# else:\n",
    "#     do_something_else"
   ]
  },
  {
   "cell_type": "markdown",
   "metadata": {},
   "source": [
    "* While loops perform the same operation WHILE some value is True.\n",
    "* The while keyword: this is the key to the statement, it indicates a while loop and refers to some_condition.\n",
    "* **The condition**: the while keyword checks whether this condition is True, and executes the dependent block of code if it is.\n",
    "* **do_something**: this is the block of code to execute if the condition is True.\n",
    "* **else statement**: this is the block of code to execute if the condition is False.\n",
    "* **While** the condition is True, the block of code will be executed, and the program will then loop back to the while statement, recheck the condition, and execute again.\n",
    "* This continues **INDEFINITELY** until the condition is untrue: hence indefinite iteration.\n",
    "* One of the most common mistakes is creating an infinite loop, where the condition does not become untrue, and hence the code continues to execute, taking up increasing memory until your computer crashes.\n",
    "* Hence we must include some way of changing the condition inside the loop, either in the do_something statement or using a break keyword (mentioned below)."
   ]
  },
  {
   "cell_type": "markdown",
   "metadata": {},
   "source": [
    "<br>\n",
    "<img src=\"images/while.png\" style=\"display:block; margin-right:auto; margin-left:auto; width:40%;\"/> <br>\n",
    "\n",
    "([Source](https://cdn.journaldev.com/wp-content/uploads/2017/10/while-loop-java.png))<br>"
   ]
  },
  {
   "cell_type": "markdown",
   "metadata": {},
   "source": [
    "Example:\n",
    "\n",
    "You lost in the forest if you go right. It doesnt't matter how many times you go right (continues INDEFINITELY) and the only way to get out of the forest is to go left."
   ]
  },
  {
   "cell_type": "code",
   "execution_count": 9,
   "metadata": {},
   "outputs": [
    {
     "name": "stdout",
     "output_type": "stream",
     "text": [
      "You're in the Lost Forest. Go left or right? right\n",
      "You're in the Lost Forest. Go left or right? right\n",
      "You're in the Lost Forest. Go left or right? right\n",
      "You're in the Lost Forest. Go left or right? left\n",
      "You got out of the Lost Forest!\n"
     ]
    }
   ],
   "source": [
    "n = input(\"You're in the Lost Forest. Go left or right? \")\n",
    "while n == \"right\":\n",
    "    n = input(\"You're in the Lost Forest. Go left or right? \")\n",
    "print(\"You got out of the Lost Forest!\")"
   ]
  },
  {
   "cell_type": "markdown",
   "metadata": {},
   "source": [
    "To solve indefinite iteration problem of the while loops, we can set a counter. We can keep track of the action and how many times it should repeat.\n",
    "Daily life: Think about you want to log in to your email and you forgot your password. Sometimes we have limited attempt to log in. Some websites allow you to enter your password wrong for 3 times and then they lock your account. This is an example of a while loop with a counter."
   ]
  },
  {
   "cell_type": "code",
   "execution_count": 18,
   "metadata": {},
   "outputs": [
    {
     "name": "stdout",
     "output_type": "stream",
     "text": [
      "0\n",
      "1\n",
      "2\n",
      "3\n",
      "4\n"
     ]
    }
   ],
   "source": [
    "n = 0             # first important thing: initiliaze counter\n",
    "while n < 5:\n",
    "    print(n)\n",
    "    n += 1        # second important thing: increment counter to avoid infinite loops"
   ]
  },
  {
   "cell_type": "markdown",
   "metadata": {},
   "source": [
    "At this point, we want use a loop which we want to repeat the same action a fixed number of times. Here we have **for loops !!!**"
   ]
  },
  {
   "cell_type": "code",
   "execution_count": 19,
   "metadata": {},
   "outputs": [
    {
     "name": "stdout",
     "output_type": "stream",
     "text": [
      "0\n",
      "1\n",
      "2\n",
      "3\n",
      "4\n"
     ]
    }
   ],
   "source": [
    "# shortcut with for loop\n",
    "for n in range(5):\n",
    "    print(n)\n"
   ]
  },
  {
   "cell_type": "markdown",
   "metadata": {},
   "source": [
    "As seen above, for loops gave us the same result. "
   ]
  },
  {
   "cell_type": "code",
   "execution_count": null,
   "metadata": {},
   "outputs": [],
   "source": [
    "# ENDLESS LOOP\n",
    "\n",
    "x = 1\n",
    "while True:\n",
    "    print(\"To infinity and beyond! We're getting close, on %d now!\" % (x))\n",
    "    x += 1"
   ]
  },
  {
   "cell_type": "markdown",
   "metadata": {},
   "source": [
    "As you can see, these loop constructs serve different purposes. The for loop runs for a fixed amount - in this case, 5, while the while loop runs until the loop condition changes; in this example, the condition is the boolean True which will never change, so it could theoretically run forever. You could use a for loop with a huge number in order to gain the same effect as a while loop, but what's the point of doing that when you have a construct that already exists? As the old saying goes, \"why try to reinvent the wheel?\". Basic structure of the for loops:"
   ]
  },
  {
   "cell_type": "code",
   "execution_count": 20,
   "metadata": {},
   "outputs": [],
   "source": [
    "# for any_variable in range(some_number):\n",
    "#    do_something\n",
    "#    do_something "
   ]
  },
  {
   "cell_type": "markdown",
   "metadata": {},
   "source": [
    "* each time through the loop, **any_variable** takes a value\n",
    "* first time, **any_variable** starts at the smallest value\n",
    "* next time, **any_variable** gets the prev value + 1\n",
    "* etc."
   ]
  },
  {
   "cell_type": "markdown",
   "metadata": {},
   "source": [
    "<br>\n",
    "<img src=\"images/for.jpg\" style=\"display:block; margin-left:auto; margin-right:auto; width:30%;\"/> <br>\n",
    "\n",
    "([Source](https://lh3.googleusercontent.com/proxy/xlo9h16q0xAIND25_LAjZAxqPdRA52weoS4Ktzc3xplZzuVT9H-mBj7oaxdDxIFMUt0au6b3jwbUWqK2JjQAB2NTszDMExiEAJT7hEZJhqWyuwUH_axiNQ))<br>\n",
    "\n",
    "\n"
   ]
  },
  {
   "cell_type": "markdown",
   "metadata": {},
   "source": [
    "**About range(start,stop,step)**\n",
    "* default values are start = 0 and step = 1 and optional\n",
    "* loop until value is stop - 1"
   ]
  },
  {
   "cell_type": "code",
   "execution_count": 22,
   "metadata": {},
   "outputs": [
    {
     "name": "stdout",
     "output_type": "stream",
     "text": [
      "7\n",
      "15\n",
      "24\n"
     ]
    }
   ],
   "source": [
    "mysum = 0\n",
    "for i in range(7, 10):\n",
    "    mysum += i\n",
    "    print(mysum)\n"
   ]
  },
  {
   "cell_type": "code",
   "execution_count": 26,
   "metadata": {},
   "outputs": [
    {
     "name": "stdout",
     "output_type": "stream",
     "text": [
      "5\n",
      "12\n",
      "21\n"
     ]
    }
   ],
   "source": [
    "mysum = 0\n",
    "for i in range(5, 11, 2):   # start from 5 and increment it by 2 and stop at 10\n",
    "    mysum += i\n",
    "    print(mysum)\n",
    "\n",
    "    \n",
    "# 5 = 0 + 5\n",
    "# 12 = 5 + (5+2)\n",
    "# 21 = 12 + (5+2+2)"
   ]
  },
  {
   "cell_type": "markdown",
   "metadata": {},
   "source": [
    "**Your Turn!**\n",
    "\n",
    "What happens if we use a float number in the range function? Edit the code below and change the function. Run the cell and see the result."
   ]
  },
  {
   "cell_type": "code",
   "execution_count": null,
   "metadata": {},
   "outputs": [],
   "source": [
    "mysum = 0\n",
    "for i in range(7, 10):   # change 7 to 7.13\n",
    "    mysum += i\n",
    "    print(mysum)"
   ]
  },
  {
   "cell_type": "markdown",
   "metadata": {},
   "source": [
    "**Break Keyword**\n",
    "* We can use break to break out of an enclosing loop: usually it is used with an if statement in order to break the loop if some condition is fulfilled.\n",
    "* If the break keyword is run, the code will not loop back to the top, it will stop executing there and move onto the next statement.\n",
    "* We can see this here because 2 is not printed: the print statement is indented, and so is a later part of the loop."
   ]
  },
  {
   "cell_type": "code",
   "execution_count": 24,
   "metadata": {},
   "outputs": [
    {
     "name": "stdout",
     "output_type": "stream",
     "text": [
      "0\n",
      "1\n"
     ]
    }
   ],
   "source": [
    "x = 0\n",
    "while x < 5:\n",
    "    if x == 2:\n",
    "        break\n",
    "    print(x)\n",
    "    x += 1"
   ]
  },
  {
   "cell_type": "markdown",
   "metadata": {},
   "source": [
    "**Your Turn!**\n",
    "\n",
    "What happens in this program? Before running the cell, guess and explain."
   ]
  },
  {
   "cell_type": "code",
   "execution_count": 25,
   "metadata": {},
   "outputs": [
    {
     "name": "stdout",
     "output_type": "stream",
     "text": [
      "5\n"
     ]
    }
   ],
   "source": [
    "mysum = 0\n",
    "for i in range(5, 11, 2):\n",
    "    mysum += i\n",
    "    if mysum == 5:\n",
    "        break\n",
    "        mysum += 1\n",
    "print(mysum)"
   ]
  },
  {
   "cell_type": "markdown",
   "metadata": {},
   "source": [
    "<img src=\"images/for_while.png\" style=\"display:block; margin-left:auto; margin-right:auto; width:50%\"/> <br>"
   ]
  },
  {
   "cell_type": "markdown",
   "metadata": {},
   "source": [
    "### Summary"
   ]
  },
  {
   "cell_type": "markdown",
   "metadata": {},
   "source": [
    "* Strings are the type of object that are sequences of characters.\n",
    "* We can only do 2 operations with strings: concatenate and star operation\n",
    "* Input is a way to get anything from the user and it only gives us a string.\n",
    "* We can test our program with conditions. Comparison and logic operators are used for it.\n",
    "* You're not allowed to compare a string with a number.\n",
    "* We use if statements to control the flow. We create different branches according to the conditions.\n",
    "* For loop is the shortcut for while loops.\n"
   ]
  },
  {
   "cell_type": "markdown",
   "metadata": {},
   "source": [
    "# Challenge\n",
    "\n",
    "This problem set will introduce you to using control flow in Python and formulating a computational\n",
    "solution to a problem.  It will also give you a chance to explore bisection search. \n",
    "\n",
    "You now have a great job! Let's say you decide that you want to start saving to buy a house.  As housing prices are very high, you realize you are going to have to save for several years before you can afford to make the down payment on a house. We are going to determine how long it will take you to save enough money to make the down payment given the following assumptions:\n",
    "\n",
    "1. Call the cost of your dream home total_cost.\n",
    "2. Call the portion of the cost needed for a down payment portion_down_payment. For\n",
    "simplicity, assume that portion_down_payment = 0.25 (25%).\n",
    "3. Call the amount that you have saved thus far current_savings. You start with a current\n",
    "savings of $0. \n",
    "4. Assume that you invest your current savings wisely, with an annual return of r (in other words,\n",
    "at the end of each month, you receive an additional current_savings*r/12 funds to put into\n",
    "your savings – the 12 is because r is an annual rate). Assume that your investments earn a \n",
    "return of r = 0.04 (4%).\n",
    "5. Assume your annual salary is annual_salary.\n",
    "6. Assume you are going to dedicate a certain amount of your salary each month to saving for \n",
    "the down payment. Call that portion_saved. This variable should be in decimal form (i.e. 0.1\n",
    "for 10%). \n",
    "7. At the end of each month, your savings will be increased by the return on your investment,\n",
    "plus a percentage of your monthly salary (annual salary / 12).\n",
    "Write a program to calculate how many months it will take you to save up enough money for a down\n",
    "payment. "
   ]
  },
  {
   "cell_type": "markdown",
   "metadata": {},
   "source": [
    "Your program should define the following three variables __in the following order__ before running:\n",
    "\n",
    "1. The starting annual salary (annual_salary), for any chosen value\n",
    "2. The portion of salary to be saved (portion_saved), for any chosen value\n",
    "3. The cost of your dream home (total_cost), for any chosen value\n",
    "4. The downpayment to buy your dream house (fixed by the total_cost chosen)\n",
    "5. The rate of return (0.04)"
   ]
  },
  {
   "cell_type": "markdown",
   "metadata": {},
   "source": [
    "**Hints**\n",
    "\n",
    "Test Case 1 \n",
    ">\n",
    "* **annual_salary** = 120000\n",
    "* **portion_saved** = 0.10\n",
    "* **total_cost**: 1000000\n",
    "\n",
    "* **Number of months**: 183 \n",
    "\n",
    ">\n",
    "\n",
    "Test Case 2 \n",
    ">\n",
    "* **annual_salary** = 80000\n",
    "* **portion_saved** = 0.15\n",
    "* **total_cost**: 500000\n",
    "\n",
    "* **Number of months**: 105 \n",
    ">"
   ]
  }
 ],
 "metadata": {
  "kernelspec": {
   "display_name": "Python 3",
   "language": "python",
   "name": "python3"
  },
  "language_info": {
   "codemirror_mode": {
    "name": "ipython",
    "version": 3
   },
   "file_extension": ".py",
   "mimetype": "text/x-python",
   "name": "python",
   "nbconvert_exporter": "python",
   "pygments_lexer": "ipython3",
   "version": "3.8.5"
  }
 },
 "nbformat": 4,
 "nbformat_minor": 2
}
