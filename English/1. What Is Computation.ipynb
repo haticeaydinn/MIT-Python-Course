{
 "cells": [
  {
   "cell_type": "markdown",
   "metadata": {},
   "source": [
    "# 1.0.0. What is computation?"
   ]
  },
  {
   "cell_type": "markdown",
   "metadata": {},
   "source": [
    "### Learning Objectives\n",
    "* [What does the computer do?](#what-does-computer-do)\n",
    "* [What kind of calculations?](#calculation)\n",
    "* [Computers only know and do what you tell them (algorithms as ‘recipes’)](#recipe)\n",
    "* [Syntax & Semantics: parallel to the English language](#syntax)\n",
    "* [Programs & Commands](#program)\n",
    "* [Objects](#obj)\n",
    "* [Printing to console & type function](#print)\n",
    "* [Operations, Expressions, Values & Variables](#operation)"
   ]
  },
  {
   "cell_type": "markdown",
   "metadata": {},
   "source": [
    "<a id='what-does-computer-do'></a>\n",
    "## What does a computer do?"
   ]
  },
  {
   "cell_type": "markdown",
   "metadata": {},
   "source": [
    "Fundamentally a computer does two things, and two things only:\n",
    "* **Performs calculations:** Nowadays computers are really fast and they perform a billion or so calculations per second. It performs these calculations and it has to store them in computer memory.\n",
    "* **Remembers results:** Computers have to remember results. These days we can find computers with hundreds of gigabytes of storage. How big is that? If a byte (the number of bits, typically eight, required to represent one character) weighed one gram (which it doesn’t), 100 gigabytes would weigh 10,000 metric tons. For comparison, that’s roughly the combined weight of 15,000 African elephants."
   ]
  },
  {
   "cell_type": "markdown",
   "metadata": {},
   "source": [
    "<br>\n",
    "<img src=\"images/computer_comparison.jpeg\" style=\"display: block; margin-left: auto; margin-right:auto; width=30%; \"/>\n",
    "\n",
    "<br>[Source for the image](https://medium.com/@romanoclara146/future-gadget-eeada3525d49)<br>"
   ]
  },
  {
   "cell_type": "markdown",
   "metadata": {},
   "source": [
    "<a id='calculation'></a>\n",
    "## What kind of calculations?\n"
   ]
  },
  {
   "cell_type": "markdown",
   "metadata": {},
   "source": [
    "* **Built-in to the language**: Very low level types of calculations like addition, subtraction, multiplication, and so on. \n",
    "* **Ones that you define as the programmer**: You can put these  primitive calculation types together and then define your own calculations.\n",
    "\n",
    "Computer programs can be written in high and low level languages. Let's look at the difference between them:\n",
    "* **High Level Languages:** High level languages are written in a form that is close to our human language, enabling to programmer to just focus on the problem being solved. Examples: Java, Python, Ruby, and C#\n",
    "* **Low Level Languages:** Low level languagesare used to write programs that relate to the specific architecture and hardware of a particular type of computer. They are close to the language of computers (binary as 0-1). Examples: Assembly language and machine code\n",
    "\n",
    "<br> <img src=\"images/high.png\" style=\"display: block; margin-left:auto; margin-right:auto; width: 50%\"/> <br>\n"
   ]
  },
  {
   "cell_type": "markdown",
   "metadata": {},
   "source": [
    "<a id='recipe'></a>\n",
    "## Computers only know and do what you tell them (algorithms as ‘recipes’)"
   ]
  },
  {
   "cell_type": "markdown",
   "metadata": {},
   "source": [
    "Computers are not magical and they don't have a mind.\n",
    "They just know how to perform calculations really quickly. But you have to tell them what calculations to do. "
   ]
  },
  {
   "cell_type": "markdown",
   "metadata": {},
   "source": [
    "All knowledge can be thought of as either declarative or imperative. These are two _types of the knodwledge_ :\n",
    "* **Declarative**: Statement of fact. For example, “the square root of x is a number y such that y*y\t=\tx.” This is a statement of fact. Unfortunately, it doesn’t tell us anything about how to find a square root. \n",
    "* **Imperative**: Recipe for deducing information or how-to. For example, the way to compute the square root of a number."
   ]
  },
  {
   "cell_type": "markdown",
   "metadata": {},
   "source": [
    "Computers don't know what to do with that statement. But they do know how to follow a recipe. So here's the recipe for  deducing square root of a number x:\n",
    "1. Start with a **guess**, g.\n",
    "2. If g * g is **close enough** to x, stop and say that g is the answer.\n",
    "3. Otherwise create a **new guess** by averaging g and x/g, i.e., (g\t+\tx/g)/2.\n",
    "4. Using this new guess, which we again call g, **repeat** the process until g*g is close enough to x.\n",
    "\n"
   ]
  },
  {
   "cell_type": "markdown",
   "metadata": {},
   "source": [
    "## Exercise: Find the square root of 16!\n",
    "Can you explain the table below? What does it mean to you? \n",
    "<br>_Some hints for you:  We're trying to find the square root of 16. Close enough means, the difference between our answer and 16 should be less than 0.1\"_ \n",
    "\n",
    "<br>\n",
    "<img src=\"images/square_root_ex.png\" style=\"display: block; margin-left:auto; margin-right:auto; width:50%\"/> <br>\n"
   ]
  },
  {
   "cell_type": "markdown",
   "metadata": {},
   "source": [
    "<details>\n",
    "    <summary>To find the square root of 16...</summary>\n",
    "        <ol>\n",
    "            <li> Start with a guess, g. In this case, it's going to start with 3. The first line on the left!</li>\n",
    "            <li>If g * g is close enough to x, stop and say that g is the answer. 3*3=9 and 9 isn't close enough to 16. So continue!</li>\n",
    "            <li>Otherwise create a new guess by averaging g and x/g, i.e., (g + x/g)/2. (3 + 16/3)/2 = 4.17</li>\n",
    "            <li>Using this new guess, which we again call g, repeat the process until g*g is close enough to x. So our new guess is 4.17 <br>and we'll repeat the same steps 1-2-3!\n",
    "            </li>\n",
    "        </ol>\n",
    "        \n",
    "        In the last line of our table: We stop here because 4.000002 is the answer. Let's compute 4.000002 * 4.000002. It equals to 16.000016. It is close enough to 16. Furthermore, 16.000016 - 16 = 0.000016 and it's less than 0.1 as we mentioned.\n",
    "</details>"
   ]
  },
  {
   "cell_type": "markdown",
   "metadata": {},
   "source": [
    "So as seen above, a recipe has 3 parts:\n",
    "\n",
    "1. **Sequence of steps**: There were 4 steps.\n",
    "2. **Flow of control**:  There were parts where we made decisions. Are we close enough? \n",
    "3. **When to stop**: Determining a way to stop. In the previous example, the way of stopping was that we decided we were close enough. Close enough was maybe being within .01, .001, whatever you pick.\n"
   ]
  },
  {
   "cell_type": "markdown",
   "metadata": {},
   "source": [
    "#### Your turn! \n",
    "_Think about a recipe from your daily life and try to determine three parts of it!_"
   ]
  },
  {
   "cell_type": "markdown",
   "metadata": {},
   "source": [
    "<br>\n",
    "<img src=\"images/recipe.png\" align=\"center\"/> <br>"
   ]
  },
  {
   "cell_type": "markdown",
   "metadata": {},
   "source": [
    "Note that the description of the method is a sequence of simple steps, together with a flow of control that specifies when each step is to be executed. Such a description is called an algorithm. In computer science speak, this recipe is going to be an algorithm."
   ]
  },
  {
   "cell_type": "markdown",
   "metadata": {},
   "source": [
    "How to capture a recipe in a mechanical process ?\n",
    "* **Fixed program computer**: It can only do one thing. For example, a calculator.  It only knows how to do addition, multiplication, subtraction, division. If you want to plot something, you can't.\n",
    "\n",
    "* **Stored program computer**: Machine stores and executes instructions. You can do different tasks in the same machine. \n",
    "    * sequence of **instructions stored** inside computer\n",
    "        * built from predefined set of primitive instructions\n",
    "            1. arithmetic and logic\n",
    "            2. simple tests\n",
    "            3. moving data\n",
    "    * special program (interpreter) **executes each instruction in order**\n",
    "        * use tests to change flow of control through sequence\n",
    "        * stop when done\n"
   ]
  },
  {
   "cell_type": "markdown",
   "metadata": {},
   "source": [
    "<br>\n",
    "<img src=\"images/architecture.png\" style=\"display: block; margin-left:auto; margin-right:auto; width:40%\"> <br>\n",
    "\n",
    "([Source on page 14](https://ocw.mit.edu/courses/electrical-engineering-and-computer-science/6-0001-introduction-to-computer-science-and-programming-in-python-fall-2016/lecture-slides-code/MIT6_0001F16_Lec1.pdf))<br>"
   ]
  },
  {
   "cell_type": "markdown",
   "metadata": {},
   "source": [
    "What are the basic primitives?\n",
    "* Turing showed that you can **compute anything** using 6 primitives (move left, move right, read, write, scan and do nothing)\n",
    "* Modern programming languages have more convenient set of primitives and can _abstract methods_ to create **new primitives**\n",
    "* ATTENTION! Anything computable in one language is computable in any other programming language!\n",
    "\n",
    "**Note:** You may be confused about the _abstract methods_ mentioned above. So let's discuss a little bit about abstraction. <br>**Abstraction in Python** is the process of hiding the real implementation of an application from the user and emphasizing only on usage of it. \n",
    "<br>For example, consider you have bought a new electronic gadget. Along with the gadget, you get a user guide, instructing how to use the application, but this user guide has no info regarding the internal working of the gadget.\n",
    "<br>Another example is, when you use TV remote, you do not know how pressing a key in the remote changes the channel internally on the TV. You just know that pressing + volume key will increase the volume.\n",
    "<br>Another example, people do not think of a car as a set of thousands of individual parts. Instead they see it as a well-defined object with its own unique behavior. This abstraction allows people to use a car to drive without knowing the complexity of the parts that form the car. They can ignore the details of how the engine transmission, and braking systems work. Instead, they are free to utilize the object as a whole.([Click here for more information](https://www.faceprep.in/python/abstraction-in-python/#:~:text=Abstraction%20in%20Python%20is%20the,bought%20a%20new%20electronic%20gadget.))<br>\n",
    "([Also you can click here for more information](https://www.askpython.com/python/oops/abstraction-in-python))\n"
   ]
  },
  {
   "cell_type": "markdown",
   "metadata": {},
   "source": [
    "<a id='syntax'></a>\n",
    "## Syntax & Semantics: parallel to the English language"
   ]
  },
  {
   "cell_type": "markdown",
   "metadata": {},
   "source": [
    "Once you have your set of primitives (primitive operations) for a particular language, you can start creating expressions!\n",
    "* Expressions are complex but legal combinations of primitives in a programming language\n",
    "* Expressions and computations have values and meanings in a programming language\n"
   ]
  },
  {
   "cell_type": "markdown",
   "metadata": {},
   "source": [
    "<img src='images/syntax.png' style=\"display:block; margin-left:auto; margin-right:auto; width:60%\">"
   ]
  },
  {
   "cell_type": "markdown",
   "metadata": {},
   "source": [
    "What is the problem here? The problem that comes into play in programming languages is it's not the meaning that\n",
    "you might have intended, as the programmer. **_That's where things can go wrong._**\n"
   ]
  },
  {
   "cell_type": "markdown",
   "metadata": {},
   "source": [
    "* **Syntactic errors**\n",
    "    * common and easily caught\n",
    "* **Static semantic errors**\n",
    "    * some languages check for these before running program\n",
    "    * can cause unpredictable behavior\n",
    "* No semantic errors but **different meaning than what programmer intended**\n",
    "    * program crashes, stops running\n",
    "    * program runs forever\n",
    "    * program gives an answer but different than expected"
   ]
  },
  {
   "cell_type": "markdown",
   "metadata": {},
   "source": [
    "#### Your turn! \n",
    "_Computers can be annoyingly literal. If you don’t tell them exactly what you want them to do, they are likely to do the wrong thing. Try writing an algorithm for driving between two destinations. Write it the way you would for a person, and then imagine what would happen if that person were as stupid as a computer, and executed the algorithm exactly as written. How many traffic tickets might that person get?_"
   ]
  },
  {
   "cell_type": "markdown",
   "metadata": {},
   "source": [
    "<a id='program'></a>\n",
    "## Programs & Commands\n"
   ]
  },
  {
   "cell_type": "markdown",
   "metadata": {},
   "source": [
    "A gentle introduction to Python:\n",
    "* Python is a general-purpose programming language that can be used effectively to build almost any kind of program.\n",
    "* It is not optimal for programs that have high reliability constraints (because of its weak static semantic checking).\n",
    "* It is a relatively simple language that is easy to learn.\n",
    "* There are also a large number of freely available libraries that interface to Python and provide useful extended functionality.\n",
    "* Python is a living language. Since its introduction by Guido von Rossum in 1990, it has undergone many changes."
   ]
  },
  {
   "cell_type": "markdown",
   "metadata": {},
   "source": [
    "A Python **program**, sometimes called a script, is a sequence of definitions and commands.\n",
    "* Definitions evaluated\n",
    "* Commands executed by Python interpreter in a shell\n",
    "\n",
    "Commands (statements) instruct interpreter to do something\n",
    "* Can be typed directly in a shell or stored in a file that is read into the shell and evaluated\n",
    "*  For example, the statement **print('AI Core rules!')** instructs the interpreter to call the function **print**, which will output the string **AI Core rules!** to the window associated with the shell."
   ]
  },
  {
   "cell_type": "code",
   "execution_count": 1,
   "metadata": {},
   "outputs": [
    {
     "output_type": "stream",
     "name": "stdout",
     "text": [
      "AI rules\n"
     ]
    }
   ],
   "source": [
    "print('AI rules')"
   ]
  },
  {
   "cell_type": "markdown",
   "metadata": {},
   "source": [
    "<a id='obj'></a>\n",
    "# Objects "
   ]
  },
  {
   "cell_type": "markdown",
   "metadata": {},
   "source": [
    "Everything is an **object** in Python.  Objects are the core things that Python programs manipulate. Every object has a **type** that defines the kinds of things that programs can do with that object. For example:\n",
    "* An object is the _number_ 5. You can add the number to another number, subtract the number, take it to the power of something, and so on.\n",
    "* We are _humans_ and that's our type. And we can walk, speak English, et cetera. \n"
   ]
  },
  {
   "cell_type": "markdown",
   "metadata": {},
   "source": [
    "There are 2 types of objects:\n",
    "* **Scalar**: Objects are indivisible. Think of them as the atoms of the language. The number five is a scalar object because it can't be subdivided.\n",
    "* **Non-scalar**: Objects, for example strings, have internal structure. a list of numbers, for example, 5, 6, 7,8, is going to be a non-scalar object because you can subdivide it. It's made up of a sequence of numbers.\n",
    "\n",
    "\n"
   ]
  },
  {
   "cell_type": "markdown",
   "metadata": {},
   "source": [
    "![objects](images/obj.png)"
   ]
  },
  {
   "cell_type": "markdown",
   "metadata": {},
   "source": [
    "<a id='print'></a>\n",
    "## Printing to console & type function"
   ]
  },
  {
   "cell_type": "markdown",
   "metadata": {},
   "source": [
    "Before examining the subject in detail, let's take a look at the primitive data types in Python!\n",
    "<br>\n",
    "<img src=\"images/primitive.png\" align=\"center\"/> <br>\n",
    "([Source for the image](https://www.datacamp.com/community/tutorials/data-structures-python#primitive))\n",
    "<br>**Primitive data types:** Data types which are pre-defined and supported by the programming language. We have 4 primitive data types in Python:\n",
    "* Integers: You can use an integer represent numeric data, and more specifically, whole numbers from negative infinity to infinity, like 4, 5, or -1.\n",
    "* Float: \"Float\" stands for 'floating point number'. You can use it for rational numbers, usually ending with a decimal figure, such as 1.11 or 3.14.\n",
    "* String: Strings are collections of alphabets, words or other characters. We'll discuss them later on \"1.0.2. String Manipulation\" notebook.\n",
    "* Booleans: This built-in data type that can take up the values: True and False, which often makes them interchangeable with the integers 1 and 0. Booleans are useful in conditional and comparison expressions.\n",
    "---"
   ]
  },
  {
   "cell_type": "markdown",
   "metadata": {},
   "source": [
    "If you want to find the type of an object, you can use this special command called **type**. To try some examples, run the cells below:"
   ]
  },
  {
   "cell_type": "code",
   "execution_count": 2,
   "metadata": {},
   "outputs": [
    {
     "output_type": "execute_result",
     "data": {
      "text/plain": [
       "int"
      ]
     },
     "metadata": {},
     "execution_count": 2
    }
   ],
   "source": [
    "type(5)"
   ]
  },
  {
   "cell_type": "code",
   "execution_count": 3,
   "metadata": {},
   "outputs": [
    {
     "output_type": "execute_result",
     "data": {
      "text/plain": [
       "float"
      ]
     },
     "metadata": {},
     "execution_count": 3
    }
   ],
   "source": [
    "type(3.0)"
   ]
  },
  {
   "cell_type": "code",
   "execution_count": 4,
   "metadata": {},
   "outputs": [
    {
     "output_type": "execute_result",
     "data": {
      "text/plain": [
       "bool"
      ]
     },
     "metadata": {},
     "execution_count": 4
    }
   ],
   "source": [
    "type(True)"
   ]
  },
  {
   "cell_type": "code",
   "execution_count": 5,
   "metadata": {},
   "outputs": [
    {
     "output_type": "execute_result",
     "data": {
      "text/plain": [
       "list"
      ]
     },
     "metadata": {},
     "execution_count": 5
    }
   ],
   "source": [
    "type([2, 3, 4])"
   ]
  },
  {
   "cell_type": "markdown",
   "metadata": {},
   "source": [
    "What is type conversion (cast)? If you happen to want to convert between two different types, you put the type that you want to convert to right before the object that you want to convert to."
   ]
  },
  {
   "cell_type": "code",
   "execution_count": 6,
   "metadata": {},
   "outputs": [
    {
     "output_type": "execute_result",
     "data": {
      "text/plain": [
       "int"
      ]
     },
     "metadata": {},
     "execution_count": 6
    }
   ],
   "source": [
    "type(3)"
   ]
  },
  {
   "cell_type": "code",
   "execution_count": 7,
   "metadata": {},
   "outputs": [
    {
     "output_type": "execute_result",
     "data": {
      "text/plain": [
       "float"
      ]
     },
     "metadata": {},
     "execution_count": 7
    }
   ],
   "source": [
    "# float(3) will convert the integer 3 to the float 3.0\n",
    "type(float(3))"
   ]
  },
  {
   "cell_type": "code",
   "execution_count": 8,
   "metadata": {},
   "outputs": [
    {
     "output_type": "execute_result",
     "data": {
      "text/plain": [
       "float"
      ]
     },
     "metadata": {},
     "execution_count": 8
    }
   ],
   "source": [
    "type(3.4)"
   ]
  },
  {
   "cell_type": "code",
   "execution_count": 9,
   "metadata": {},
   "outputs": [
    {
     "output_type": "execute_result",
     "data": {
      "text/plain": [
       "int"
      ]
     },
     "metadata": {},
     "execution_count": 9
    }
   ],
   "source": [
    "# int(3.9) truncates float 3.9 to integer 3. Converting to an integer just truncates. \n",
    "# It just takes away the decimal and keeps just the integer part.\n",
    "type(int(3.9))"
   ]
  },
  {
   "cell_type": "markdown",
   "metadata": {},
   "source": [
    "One of the most important things that you can do in basically any programming is to print things out. Printing out is how you interact with the user. To print things out, you use the **print** command."
   ]
  },
  {
   "cell_type": "code",
   "execution_count": 10,
   "metadata": {},
   "outputs": [
    {
     "output_type": "execute_result",
     "data": {
      "text/plain": [
       "5"
      ]
     },
     "metadata": {},
     "execution_count": 10
    }
   ],
   "source": [
    "3 + 2"
   ]
  },
  {
   "cell_type": "markdown",
   "metadata": {},
   "source": [
    "As you can see above, we can print the value without print() command but it doesn't actually print anything. \"Out\" tells you that it's an interaction within the shell only. It's not interacting with anyone else. "
   ]
  },
  {
   "cell_type": "code",
   "execution_count": null,
   "metadata": {},
   "outputs": [],
   "source": [
    "print(3+2)\n",
    "print(\"Hello world!\")"
   ]
  },
  {
   "cell_type": "markdown",
   "metadata": {},
   "source": [
    "If you don't have any \"Out,\" that means it got printed out to the console.\n",
    "\n"
   ]
  },
  {
   "cell_type": "markdown",
   "metadata": {},
   "source": [
    "<a id='operation'></a>\n",
    "## Operations, Expressions, Values & Variables"
   ]
  },
  {
   "cell_type": "markdown",
   "metadata": {},
   "source": [
    "**Expression:**\n",
    "* **combine objects and operators** to form expressions\n",
    "* an expression has a **value**, which has a type. So an expression evaluates to a value.\n",
    "* syntax for a simple expression:  (object) (operator) (object)"
   ]
  },
  {
   "cell_type": "markdown",
   "metadata": {},
   "source": [
    "Operators on ints and floats:\n",
    "\n",
    "![operator](images/operator.png)"
   ]
  },
  {
   "cell_type": "markdown",
   "metadata": {},
   "source": [
    "These **operations** have the typical precedence that you might expect in math. For example, if you'd like to put precedence toward some other operations, you can use *parentheses* to do that.\n",
    "\n",
    "* Operator precedence without parentheses\n",
    "    * \\**\n",
    "    * *\n",
    "    * /\n",
    "    * \\+ and – executed left to right, as appear in expression\n"
   ]
  },
  {
   "cell_type": "code",
   "execution_count": null,
   "metadata": {
    "scrolled": true
   },
   "outputs": [],
   "source": [
    "28 % 3"
   ]
  },
  {
   "cell_type": "code",
   "execution_count": null,
   "metadata": {},
   "outputs": [],
   "source": [
    "400 / 7"
   ]
  },
  {
   "cell_type": "code",
   "execution_count": null,
   "metadata": {},
   "outputs": [],
   "source": [
    "3 * 4 - 5"
   ]
  },
  {
   "source": [],
   "cell_type": "markdown",
   "metadata": {}
  },
  {
   "cell_type": "markdown",
   "metadata": {},
   "source": [
    "#### Your turn ! \n",
    "_Firstly, guess the answer for the calculation below and run the cell to check your answer._"
   ]
  },
  {
   "cell_type": "code",
   "execution_count": 14,
   "metadata": {},
   "outputs": [
    {
     "output_type": "stream",
     "name": "stdout",
     "text": [
      "-29\n"
     ]
    }
   ],
   "source": [
    "print(3 - 2 * 2 ** (1 + 3) )"
   ]
  },
  {
   "cell_type": "markdown",
   "metadata": {},
   "source": [
    "Now we have ways of creating expressions. And we have operations we can do on objects. But what's going to be useful is to be able to save **values** to some name. We save a value to a **variable** name. To do this, you can use the equal sign. Equal sign is an assignment of a value to a variable name.\n",
    "\n",
    "![value](images/value.png)\n",
    "* value stored in computer memory \n",
    "* an assignment __binds__ name to value\n",
    "* retrieve value associated with name or variable by invoking the name, by typing pi.\n",
    "\n",
    "We give name to values to reuse names instead of values. It's easier to change code later. Run the cell below. You can change radius value and run cell again."
   ]
  },
  {
   "cell_type": "code",
   "execution_count": null,
   "metadata": {},
   "outputs": [],
   "source": [
    "pi = 3.14159\n",
    "radius = 2.2 # change the right side of assignment\n",
    "# area of circle\n",
    "area = pi*(radius**2)\n",
    "print(area)"
   ]
  },
  {
   "cell_type": "markdown",
   "metadata": {},
   "source": [
    "**In math**, you're often presented with a problem that says, solve for x. \"x + y\" is equal to something something.\n",
    "**In programming**, if you want to solve for x, you need to tell the computer exactly how to solve for x. Also, in programming:\n",
    "* The right-hand side is going to be an __expression__. This means it's a combination of operations and values, whose result is another value.\n",
    "* The left-hand side is always a variable.\n",
    "* It's going to be an assignment. The equal sign is not like in math.\n",
    "* There's only one thing (variable) to the left of the equal sign. \n",
    "* An equal sign stands for an assignment.\n",
    "\n",
    "Let's look at some examples!"
   ]
  },
  {
   "cell_type": "code",
   "execution_count": 12,
   "metadata": {},
   "outputs": [
    {
     "output_type": "stream",
     "name": "stdout",
     "text": [
      "1.5\n"
     ]
    }
   ],
   "source": [
    "# Assign the value 3/2 to the variable with name x\n",
    "x = 3/2\n",
    "print(x)"
   ]
  },
  {
   "cell_type": "code",
   "execution_count": 15,
   "metadata": {},
   "outputs": [
    {
     "output_type": "stream",
     "name": "stdout",
     "text": [
      "-58\n"
     ]
    }
   ],
   "source": [
    "x = 3 - 2 * 2 ** (1 + 3)\n",
    "x = 2*x\n",
    "print(x)"
   ]
  },
  {
   "cell_type": "markdown",
   "metadata": {},
   "source": [
    "#### Your turn!\n",
    "_Which is allowed in Python and why?_\n",
    "\n",
    "a) x + y = 2\n",
    "\n",
    "b) x*x = 2\n",
    "\n",
    "c) 2 = x\n",
    "\n",
    "d) xy = 2\n",
    "\n",
    "_What do you think will be printed out by the code cell below?_"
   ]
  },
  {
   "cell_type": "code",
   "execution_count": null,
   "metadata": {},
   "outputs": [],
   "source": [
    "question1 = (3 + 1) * 4 - 5\n",
    "question1 = question1 ** 2\n",
    "print(question1)"
   ]
  },
  {
   "cell_type": "markdown",
   "metadata": {},
   "source": [
    "<details>\n",
    "<summary>Click here to see the answer!</summary>\n",
    "<ul>\n",
    "    <li>a) x + y = 2 : Not right! Left side needs to be a variable!</li>\n",
    "    <li>b) x*x = 2 : Not right! Left side can not be an expression!</li>\n",
    "    <li>c) 2 = x : Not right! 2 is not a proper variable name!</li>\n",
    "    <li><b>d) xy = 2 : The correct answer!</b></li>\n",
    "</ul>\n",
    "\n",
    "</details>"
   ]
  },
  {
   "cell_type": "markdown",
   "metadata": {},
   "source": [
    "We said that an assignment __binds__ name to value. **Changing bindings**:\n",
    "* can re-bind variable names using new assignment statements\n",
    "* previous value may still stored in memory but lost the handle for it\n",
    "* value for area does not change until you tell the computer to do the calculation again"
   ]
  },
  {
   "cell_type": "code",
   "execution_count": null,
   "metadata": {},
   "outputs": [],
   "source": [
    "pi = 3.14\n",
    "radius = 2.2\n",
    "# area of circle\n",
    "area = pi*(radius**2)\n",
    "print(area)\n",
    "# re-bind value of radius\n",
    "radius = radius + 1\n",
    "print(area)"
   ]
  },
  {
   "cell_type": "markdown",
   "metadata": {},
   "source": [
    "Please note that, although we changed the value of radius, the value of area **did not change**. It did not change because these are all the instructions we told the computer to do. We just told it to change radius to be radius plus 1. We never told it to recalculate the value of area. The computer only does what we tell it to do. Run the cell below to see the difference. "
   ]
  },
  {
   "cell_type": "code",
   "execution_count": null,
   "metadata": {},
   "outputs": [],
   "source": [
    "pi = 3.14\n",
    "radius = 2.2\n",
    "# area of circle\n",
    "area = pi*(radius**2)\n",
    "print(area)\n",
    "# re-bind value of radius\n",
    "radius = radius + 1\n",
    "\n",
    "# calculate area again and re-bind value of area\n",
    "area = pi*(radius**2)\n",
    "print(area)"
   ]
  },
  {
   "cell_type": "markdown",
   "metadata": {},
   "source": [
    "Let's see the difference between the two examples shown above. Watch out for the green tick which represents re-binding.\n",
    "* We didn't change the value of area in the first example as mentioned. We only re-bind value of radius. You can see this in the control flow on the left. \n",
    "* But we calculate the area and change it in the second example. That means we re-bind the area. You can see this in the control flow on the right.\n",
    "<br>\n",
    "<img src=\"images/flow_ex.png\" align=\"center\"/> <br>"
   ]
  },
  {
   "cell_type": "markdown",
   "metadata": {},
   "source": [
    "#### Your turn!\n",
    "_Guess what will be the outputs of two print commands? Run the cell and explain the answer!_"
   ]
  },
  {
   "cell_type": "code",
   "execution_count": null,
   "metadata": {},
   "outputs": [],
   "source": [
    "usa_gold = 46\n",
    "uk_gold = 27\n",
    "romania_gold = 1\n",
    "\n",
    "total_gold = usa_gold + uk_gold + romania_gold\n",
    "print(total_gold)  # guess what?\n",
    "\n",
    "romania_gold += 1\n",
    "print(total_gold)  # guess what?"
   ]
  },
  {
   "cell_type": "markdown",
   "metadata": {},
   "source": [
    "## Summary"
   ]
  },
  {
   "cell_type": "markdown",
   "metadata": {},
   "source": [
    "* A computer performs calculations and remembers results and it only does what we tell it to do.\n",
    "* A recipe (algorithm) has 3 parts: Sequence of steps, Flow of control and When to stop\n",
    "* Where things go wrong: Syntactic errors, Static semantic errors and No semantic errors but different meaning than what programmer intended\n",
    "* A program is a sequence of definitions and commands.Commands instruct interpreter to do something.\n",
    "* We have 2 types of objects: Scalar and non-scalar.\n",
    "* Printing out is how you interact with the user.\n",
    "* The equal sign is not like in math. We assign a value to a variable with equal sign.\n",
    "* There's only one thing to the left of the equal sign.\n",
    "* We can change value of a variable but the calculations including this value does not change until we do the same calculations again."
   ]
  },
  {
   "cell_type": "markdown",
   "metadata": {},
   "source": [
    "# Challenges:\n",
    "\n",
    "Go and try to write a program that does the following in order:\n",
    "\n",
    "1. Assigns a value of 3 to \"x\"\n",
    "2. Assigns a value of 5 to \"y\"\n",
    "3. Prints out number “x”, raised to the power “y”\n",
    "4. Prints out the square root of \"x\""
   ]
  }
 ],
 "metadata": {
  "kernelspec": {
   "name": "python3",
   "display_name": "Python 3.8.5 64-bit",
   "metadata": {
    "interpreter": {
     "hash": "aee8b7b246df8f9039afb4144a1f6fd8d2ca17a180786b69acc140d282b71a49"
    }
   }
  },
  "language_info": {
   "codemirror_mode": {
    "name": "ipython",
    "version": 3
   },
   "file_extension": ".py",
   "mimetype": "text/x-python",
   "name": "python",
   "nbconvert_exporter": "python",
   "pygments_lexer": "ipython3",
   "version": "3.8.5-final"
  }
 },
 "nbformat": 4,
 "nbformat_minor": 2
}