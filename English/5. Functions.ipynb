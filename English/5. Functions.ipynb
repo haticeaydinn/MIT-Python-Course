{
 "cells": [
  {
   "cell_type": "markdown",
   "metadata": {},
   "source": [
    "# 1.1.0. Functions"
   ]
  },
  {
   "cell_type": "markdown",
   "metadata": {},
   "source": [
    "## Learning Objectives\n",
    "\n",
    "* [Decomposition & Abstraction](#decom)\n",
    "* [Properties](#prop)\n",
    "* [Function call/invoking functions](#call)\n",
    "* [Scope](#scope)\n",
    "* [‘return’ statement](#return)\n",
    "* [Functions and arguments](#arg)"
   ]
  },
  {
   "cell_type": "markdown",
   "metadata": {},
   "source": [
    "<a id='decom'></a>\n",
    "## Decomposition & Abstraction"
   ]
  },
  {
   "cell_type": "markdown",
   "metadata": {},
   "source": [
    "Let's think about a projector:\n",
    "* a projector is a black box\n",
    "* don’t know how it works\n",
    "* know the interface: input/output\n",
    "* connect any electronic to it that can communicate with that input\n",
    "* black box somehow converts image from input source to a wall, magnifying it\n",
    "* **ABSTRACTION IDEA:** do not need to know how projector works to use it\n",
    "\n",
    "\n",
    "* projecting large image for Olympics decomposed into separate tasks for separate projectors\n",
    "* each projector takes input and produces separate output\n",
    "* all projectors work together to produce larger image\n",
    "* **DECOMPOSITION IDEA:** different devices work together to achieve an end goal\n"
   ]
  },
  {
   "cell_type": "markdown",
   "metadata": {},
   "source": [
    "<br>\n",
    "<img src=\"images/proj.jpg\" style=\"display:block; margin-left:auto; margin-right:auto; width: 20%\"/> <br>\n",
    "\n",
    "([Source](https://images-na.ssl-images-amazon.com/images/I/61JrUGQZZlL._AC_SX466_.jpg))<br>\n"
   ]
  },
  {
   "cell_type": "markdown",
   "metadata": {},
   "source": [
    "We create structure with **decomposition:** \n",
    "* in projector example, separate devices\n",
    "* in programming, divide code into modules\n",
    "    * are self-contained\n",
    "    * used to break up code\n",
    "    * intended to be reusable\n",
    "    * keep code organized\n",
    "    * keep code coherent\n",
    "* this notebook, achieve decomposition with **functions**\n",
    "* in a few weeks, achieve decomposition with **classes**\n",
    "\n",
    "We suppress details with **abstraction:**\n",
    "* in projector example, instructions for how to use it are sufficient, no need to know how to build one\n",
    "* in programming, think of a piece of code as a black box\n",
    "    * cannot see details\n",
    "    * do not need to see details\n",
    "    * do not want to see details\n",
    "    * hide tedious coding details\n",
    "* achieve abstraction with function specifications or docstrings"
   ]
  },
  {
   "cell_type": "markdown",
   "metadata": {},
   "source": [
    "<br>\n",
    "<img src=\"images/function.png\" style=\"display:block; margin-left:auto; margin-right:auto; width:30%\"/> <br>\n",
    "\n",
    "([Source](https://medium.com/@kuanzhasulan/python-functions-352137dd4d84))<br>"
   ]
  },
  {
   "cell_type": "markdown",
   "metadata": {},
   "source": [
    "We have already seen for loops as a way of obeying the DRY (Don't Repeat Yourself) principle.\n",
    "The next major step is **FUNCTIONS.**\n",
    "<br>Functions provide a way to program a block of code that only runs when called.\n",
    "This means that we can avoid having to redefine the same operations when doing them repeatedly.\n",
    "\n",
    "As seen above, a function basically takes in an input and gives an output. It does some calculations or operations with the input and we get an output in return. Let's think about a snack machine. Here are the arguments according to the diagram shown above:\n",
    "* Input: putting money, pushing the button\n",
    "* Function: the machine gets what you wanted and a specific item drops into the output slot\n",
    "* Output: a specific item\n",
    "\n",
    "---\n",
    "\n",
    "* A function takes in parameters (input), and returns an output.\n",
    "* The value passed in as a parameter is called an argument.\n",
    "* A function associated with an object is called a method.\n",
    "* An instance of a function is called a function call.\n",
    "* The basic syntax for a function is as follows:"
   ]
  },
  {
   "cell_type": "code",
   "execution_count": 1,
   "metadata": {},
   "outputs": [],
   "source": [
    "# function definition\n",
    "def function_name (param1, param2 = 1):\n",
    "    '''\n",
    "    DOCSTRING: explains function\n",
    "    INPUT: Name (str)\n",
    "    OUTPUT: Hello Name (str)\n",
    "    '''\n",
    "    # add code to run\n",
    "    return(\"Hello \" + param1)"
   ]
  },
  {
   "cell_type": "markdown",
   "metadata": {},
   "source": [
    "<a id='prop'></a>\n",
    "## Properties"
   ]
  },
  {
   "cell_type": "markdown",
   "metadata": {},
   "source": [
    "* **def** keyword shows python you're about to define a function.\n",
    "* **Function name** comes next, name all lower case, separated by underscores, do not use builtin keywords: see PEP8 for detail.\n",
    "* **Parameters** defined in brackets.\n",
    "* **Default arguments** are arguments that have a default value to revert to if no other value is specified. Here, param2 = 1 means that param2 will be 1 unless it is specified to be something else in the function call.\n",
    "* **Colon** indicates end of definition line, next line will indent.\n",
    "* **Docstrings** explain what the function is doing: read PEP257 or google 'python docstrings' for guidelines.\n",
    "* https://www.python.org/dev/peps/pep-0257/\n",
    "* **return** keyword indicates output of function."
   ]
  },
  {
   "cell_type": "markdown",
   "metadata": {},
   "source": [
    "Function characteristics:\n",
    "* has a name\n",
    "* has parameters (0 or more)\n",
    "* has a docstring (optional but recommended)\n",
    "* has a body\n",
    "* returns something\n",
    "<br>\n",
    "<img src=\"images/func.png\" style=\"display:block; margin-left:auto; margin-right:auto; width:50%\"/> <br>\n",
    "\n",
    "([Source](https://ocw.mit.edu/courses/electrical-engineering-and-computer-science/6-0001-introduction-to-computer-science-and-programming-in-python-fall-2016/lecture-slides-code/MIT6_0001F16_Lec4.pdf))<br>\n",
    "\n",
    "<br>\n",
    "<img src=\"images/func2.png\" style=\"display:block; margin-left:auto; margin-right:auto; width:50%\"/> <br>\n",
    "\n",
    "([Source](https://ocw.mit.edu/courses/electrical-engineering-and-computer-science/6-0001-introduction-to-computer-science-and-programming-in-python-fall-2016/lecture-slides-code/MIT6_0001F16_Lec4.pdf))<br>"
   ]
  },
  {
   "cell_type": "markdown",
   "metadata": {},
   "source": [
    "<a id='call'></a>\n",
    "## Function call/invoking functions"
   ]
  },
  {
   "cell_type": "markdown",
   "metadata": {},
   "source": [
    "Functions are not run in a program until they are **“called”** or **“invoked”** in a program. \n",
    "* When performing a function call, we write the name of the function followed by parentheses containing the arguments to pass in.\n",
    "* **COMMON ERROR: if you call a function without parentheses it will not run!!!**\n",
    "* It will simply show information on the function including the module it belongs to, its name, and the parameters it takes.\n"
   ]
  },
  {
   "cell_type": "code",
   "execution_count": 2,
   "metadata": {},
   "outputs": [
    {
     "data": {
      "text/plain": [
       "'Hello Zain'"
      ]
     },
     "execution_count": 2,
     "metadata": {},
     "output_type": "execute_result"
    }
   ],
   "source": [
    "# function call\n",
    "function_name(\"Zain\")"
   ]
  },
  {
   "cell_type": "code",
   "execution_count": 3,
   "metadata": {},
   "outputs": [
    {
     "data": {
      "text/plain": [
       "<function __main__.function_name(param1, param2=1)>"
      ]
     },
     "execution_count": 3,
     "metadata": {},
     "output_type": "execute_result"
    }
   ],
   "source": [
    "function_name"
   ]
  },
  {
   "cell_type": "markdown",
   "metadata": {},
   "source": [
    "Defining a function only gives it a name, specifies the parameters that are to be included in the function and structures the blocks of code.\n",
    "\n",
    "Once the basic structure of a function is finalized, you can execute it by calling it from another function or directly from the Python prompt. Following is the example to call printme() function:"
   ]
  },
  {
   "cell_type": "code",
   "execution_count": 1,
   "metadata": {},
   "outputs": [
    {
     "name": "stdout",
     "output_type": "stream",
     "text": [
      "I'm first call to user defined function!\n",
      "Again second call to the same function\n",
      "\n",
      "    This prints a passed string into this function (DOCSTRING)\n",
      "    \n"
     ]
    }
   ],
   "source": [
    "# Function definition is here\n",
    "def printme(str):\n",
    "    '''\n",
    "    This prints a passed string into this function (DOCSTRING)\n",
    "    '''\n",
    "    print(str)\n",
    "    return;\n",
    "\n",
    "# Now you can call printme function\n",
    "printme(\"I'm first call to user defined function!\")\n",
    "printme(\"Again second call to the same function\")\n",
    "\n",
    "# We can print the docstring if we want the 'instructions manual' to our 'projector'\n",
    "print(printme.__doc__)"
   ]
  },
  {
   "cell_type": "code",
   "execution_count": null,
   "metadata": {},
   "outputs": [],
   "source": [
    "## Code break: Write a function that takes in two numbers and prints their sum!"
   ]
  },
  {
   "cell_type": "code",
   "execution_count": null,
   "metadata": {},
   "outputs": [],
   "source": [
    "## Code break: Write a function that takes in a string and prints it reversed!"
   ]
  },
  {
   "cell_type": "markdown",
   "metadata": {},
   "source": [
    "<a id='scope'></a>\n",
    "## Scope"
   ]
  },
  {
   "cell_type": "markdown",
   "metadata": {},
   "source": [
    "* formal parameter gets bound to the value of actual parameter when function is called\n",
    "* new scope/frame/environment created when enter a function\n",
    "* **scope** is mapping of names to objects\n",
    "\n",
    "Variable scope refers to which parts of a program can reference a variable. There are 2 kinds of scope: \n",
    "* local : A variable defined inside a function can only be referenced inside that function: local scope.\n",
    "* global : A variable defined outside a function (in the general script) can be referenced inside the function, but cannot be modified from inside the function (UnboundLocalError). To change it inside the function, it must be redefined inside the function.\n",
    "\n",
    "<br>This means that **local** variables can be accessed only inside the function in which they are declared, whereas **global** variables can be accessed throughout the program body by all functions. When you call a function, the variables declared inside it are brought into scope."
   ]
  },
  {
   "cell_type": "code",
   "execution_count": 4,
   "metadata": {},
   "outputs": [
    {
     "name": "stdout",
     "output_type": "stream",
     "text": [
      "hello world\n",
      "2\n"
     ]
    }
   ],
   "source": [
    "# Variable defined in global scope\n",
    "dummy = 2\n",
    "\n",
    "def hello_world():\n",
    "    dummy = 3 # variable defined in the local scope of the function\n",
    "    print('hello world')\n",
    "\n",
    "hello_world() # does not change the value of dummy in the global scope!\n",
    "print(dummy)"
   ]
  },
  {
   "cell_type": "code",
   "execution_count": 2,
   "metadata": {},
   "outputs": [
    {
     "name": "stdout",
     "output_type": "stream",
     "text": [
      "Inside the function local total :  30\n",
      "Outside the function global total :  0\n"
     ]
    }
   ],
   "source": [
    "total = 0; # This is global variable.\n",
    "# Function definition is here\n",
    "def sum(arg1, arg2):\n",
    "    # Add both the parameters and return them.\"\n",
    "    total = arg1 + arg2; # Here total is local variable.\n",
    "    print(\"Inside the function local total : \", total)\n",
    "    return total\n",
    "\n",
    "# Now you can call sum function\n",
    "sum( 10, 20 )\n",
    "print(\"Outside the function global total : \", total)"
   ]
  },
  {
   "cell_type": "markdown",
   "metadata": {},
   "source": [
    "<a id='return'></a>\n",
    "## ‘return’ statement"
   ]
  },
  {
   "cell_type": "markdown",
   "metadata": {},
   "source": [
    "The statement return [expression] exits a function, optionally passing back an expression to the caller. A return statement with no arguments is the same as return None. If there is no return in the function, Python returns \"None\" by default.\n",
    "\n",
    "All the above examples are not returning any value. You can return a value from a function as follows:"
   ]
  },
  {
   "cell_type": "code",
   "execution_count": 8,
   "metadata": {},
   "outputs": [
    {
     "name": "stdout",
     "output_type": "stream",
     "text": [
      "Inside the function :  30\n",
      "Outside the function :  30\n"
     ]
    }
   ],
   "source": [
    "# Function definition is here\n",
    "def sum( arg1, arg2 ):\n",
    "    # Add both the parameters and return them.\"\n",
    "    total = arg1 + arg2\n",
    "    print(\"Inside the function : \", total)\n",
    "    return total;\n",
    "\n",
    "# Now you can call sum function\n",
    "total = sum( 10, 20 )\n",
    "print(\"Outside the function : \", total)"
   ]
  },
  {
   "cell_type": "markdown",
   "metadata": {},
   "source": [
    "<img src=\"images/return.png\" style=\"display:block; margin-left:auto; margin-right:auto; width:40%\"/> <br>\n",
    "\n",
    "([Source](https://ocw.mit.edu/courses/electrical-engineering-and-computer-science/6-0001-introduction-to-computer-science-and-programming-in-python-fall-2016/lecture-slides-code/MIT6_0001F16_Lec4.pdf))<br>\n"
   ]
  },
  {
   "cell_type": "markdown",
   "metadata": {},
   "source": [
    "## Your Turn!\n",
    "<br>How many total lines of output will show up if you run the code below? What will the outputs be?"
   ]
  },
  {
   "cell_type": "code",
   "execution_count": 5,
   "metadata": {},
   "outputs": [
    {
     "name": "stdout",
     "output_type": "stream",
     "text": [
      "5\n",
      "12\n",
      "20\n",
      "None\n"
     ]
    }
   ],
   "source": [
    "def add(x, y):\n",
    "    return x+y\n",
    "\n",
    "def mult(x, y):\n",
    "    print(x*y)\n",
    "\n",
    "add(1,2)\n",
    "print(add(2,3))\n",
    "mult(3,4)\n",
    "print(mult(4,5))"
   ]
  },
  {
   "cell_type": "markdown",
   "metadata": {},
   "source": [
    "<details>\n",
    "<summary>Click here to see the answer!</summary>\n",
    "<code style=\"white-space:nowrap;\">The answer is 4 !!!\n",
    "<br>Watch out the last line print(mult(4,5)). We try to print the return of the function and it has none as return.\n",
    "<br>So we print None here!\n",
    "</code>\n",
    "</details>"
   ]
  },
  {
   "cell_type": "markdown",
   "metadata": {},
   "source": [
    "<a id='arg'></a>\n",
    "## Functions and arguments"
   ]
  },
  {
   "cell_type": "markdown",
   "metadata": {},
   "source": [
    "Information can be passed into functions as **arguments**. Arguments are specified after the function name, inside the parentheses. You can add as many arguments as you want, just separate them with a comma. You can call a function by using the following types of formal **arguments**:\n",
    "* __Positional arguments__: If the argument name is not specified, the function reads them in order \n",
    "* __Keyword arguments__: We provide argument in as key-value pairs\n",
    "* __Default arguments__: Already have a default value set, hence an optional argument\n",
    "\n",
    "The following example has a function with one argument (fname). When the function is called, we pass along a first name, which is used inside the function to print the full name:"
   ]
  },
  {
   "cell_type": "code",
   "execution_count": 10,
   "metadata": {},
   "outputs": [
    {
     "name": "stdout",
     "output_type": "stream",
     "text": [
      "hello Emil Refsnes.\n",
      "hello Tobias Refsnes.\n",
      "hello Linus Refsnes!\n"
     ]
    }
   ],
   "source": [
    "def my_function(greeting, fname, punctuation='.'):\n",
    "    print(greeting + fname + \" Refsnes\" + punctuation)\n",
    "\n",
    "my_function(\"hello \", \"Emil\") # positional arguments must be given in order\n",
    "my_function(fname=\"Tobias\", greeting=\"hello \") # keyword arguments don't need to be in order\n",
    "my_function(\"hello \", \"Linus\", punctuation='!')"
   ]
  },
  {
   "cell_type": "markdown",
   "metadata": {},
   "source": [
    "**Parameters or Arguments?**\n",
    "<br>The terms __parameter__ and __argument__ can be used for the same thing: information that are passed into a function.\n",
    "<br>From a function's perspective:\n",
    "* A parameter is the variable listed inside the parentheses in the function definition.\n",
    "* An argument is the value that is sent to the function when it is called.\n",
    "\n",
    "In the **greet_user** example below:\n",
    "* **name** : parameter\n",
    "* **Clara** : argument"
   ]
  },
  {
   "cell_type": "code",
   "execution_count": 9,
   "metadata": {},
   "outputs": [
    {
     "name": "stdout",
     "output_type": "stream",
     "text": [
      "Hello Clara!\n",
      "Welcome abroad!\n"
     ]
    }
   ],
   "source": [
    "def greet_user(name):\n",
    "    print('Hello {}!'.format(name))\n",
    "    print(\"Welcome abroad!\")\n",
    "\n",
    "greet_user(\"Clara\")"
   ]
  },
  {
   "cell_type": "markdown",
   "metadata": {},
   "source": [
    "**The pass statement**\n",
    "<br>Function definitions cannot be empty, but if you for some reason have a function definition with no content, put in the pass statement to avoid getting an error."
   ]
  },
  {
   "cell_type": "code",
   "execution_count": 18,
   "metadata": {},
   "outputs": [],
   "source": [
    "def myfunction2():\n",
    "    pass"
   ]
  },
  {
   "cell_type": "code",
   "execution_count": null,
   "metadata": {},
   "outputs": [],
   "source": [
    "## Code break: write a function with input arguments name and sentence and returns True if the name is in the sentence and False if it's not"
   ]
  },
  {
   "cell_type": "markdown",
   "metadata": {},
   "source": [
    "## Summary\n",
    "\n",
    "* Functions provide a way to program a block of code that only runs when called.\n",
    "* COMMON ERROR: if you call a function without parentheses it will not run!!!\n",
    "* Variable scope refers to which parts of a program can reference a variable. There are 2 kinds of scope: local, global\n",
    "* If there is no return in the function, Python returns \"None\" by default.\n",
    "* Information can be passed into functions as arguments. \n",
    "* A parameter is the variable listed inside the parentheses in the function definition.\n",
    "* An argument is the value that is sent to the function when it is called. \n",
    "* Keyword arguments allow you to skip arguments or place them out of order because the Python interpreter is able to use the keywords provided to match the values with parameters.\n"
   ]
  },
  {
   "cell_type": "markdown",
   "metadata": {},
   "source": [
    "# Challenges\n",
    "\n",
    "## Question 1\n",
    "Write a function called check_range that:\n",
    "- Has parameters 'value', 'lower', and 'upper'\n",
    "- returns True if within the range of upper and lower (inclusive)\n",
    "- returns False otherwise"
   ]
  },
  {
   "cell_type": "markdown",
   "metadata": {},
   "source": [
    "## Question 2\n",
    "Write a function called volume_of_sphere that:\n",
    "- Has the radius of a sphere as its only argument \n",
    "- returns the volume of the sphere rounded to 2 decimal points. (Google the formula for volume of a sphere, use pi = 3.14)"
   ]
  },
  {
   "cell_type": "markdown",
   "metadata": {},
   "source": [
    "## Question 3 - Emoji Converter\n",
    "Take a look at the program below. Can you write a emoji converter function that does what the script below does?"
   ]
  },
  {
   "cell_type": "code",
   "execution_count": 13,
   "metadata": {},
   "outputs": [
    {
     "name": "stdout",
     "output_type": "stream",
     "text": [
      " \n"
     ]
    }
   ],
   "source": [
    "message = input(\">\")\n",
    "words = message.split(\" \")  # split method turns a list and it splits strings\n",
    "\n",
    "emoji_mapping = {\n",
    "    \":)\": \"😊\",  # windows 10 emoji shortcut: windows + .\n",
    "    \":(\": \"😢\",\n",
    "    \":/\": \"😒\"\n",
    "}\n",
    "\n",
    "output = \"\"\n",
    "for char in words:\n",
    "    output += emoji_mapping.get(char, char) + \" \" # .get() method will return the conversion if available, else returns the character itself\n",
    "print(output)"
   ]
  },
  {
   "cell_type": "markdown",
   "metadata": {},
   "source": [
    "The emoji_converter function will:\n",
    "- Take in one argument (message), that will be a sentence (string)\n",
    "- Return the 'translated message'"
   ]
  }
 ],
 "metadata": {
  "kernelspec": {
   "display_name": "Python 3",
   "language": "python",
   "name": "python3"
  },
  "language_info": {
   "codemirror_mode": {
    "name": "ipython",
    "version": 3
   },
   "file_extension": ".py",
   "mimetype": "text/x-python",
   "name": "python",
   "nbconvert_exporter": "python",
   "pygments_lexer": "ipython3",
   "version": "3.7.3"
  }
 },
 "nbformat": 4,
 "nbformat_minor": 2
}
