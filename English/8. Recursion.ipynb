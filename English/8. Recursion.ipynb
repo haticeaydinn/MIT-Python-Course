{
 "cells": [
  {
   "cell_type": "markdown",
   "metadata": {},
   "source": [
    "# 1.1.3. Recursion"
   ]
  },
  {
   "cell_type": "markdown",
   "metadata": {},
   "source": [
    "## Learning Objectives\n",
    "\n",
    "* [Divide-and-conquer or decrease-and-conquer](#divide)\n",
    "* [Examples of real-life problems that are recursive in nature](#real)\n",
    "* [Recursive steps vs base case](#step)\n",
    "* [Recursion vs Iteration](#rec-iter)"
   ]
  },
  {
   "cell_type": "markdown",
   "metadata": {},
   "source": [
    "<a id='divide'></a>\n",
    "## Divide-and-conquer or decrease-and-conquer"
   ]
  },
  {
   "cell_type": "markdown",
   "metadata": {},
   "source": [
    "Algorithmically: a way to design solutions to problems by **divide-and-conquer** or **decrease-and-conquer**. “Divide\tand\tconquer” algorithm solve a hard problem by breaking it\tinto a set of  subproblems such that:\t\n",
    "* sub-problems are easier to solve than the original\t\n",
    "* solutions of the sub-problems can\tbe combined to solve the original\n",
    "\n",
    "Semantically: a programming technique where\ta function calls itself\n",
    "* \tin\tprogramming,\tgoal\tis\tto\tNOT\thave\tinfinite\trecursion\t\n",
    "* \tmust\thave\t1\tor\tmore\tbase\tcases\tthat\tare\teasy\tto\tsolve\t\n",
    "* \tmust\tsolve\tthe\tsame\tproblem\ton\tsome\tother\tinput\twith\tthe\tgoal\tof\tsimplifying\tthe\tlarger\tproblem\tinput\t"
   ]
  },
  {
   "cell_type": "markdown",
   "metadata": {},
   "source": [
    "Have you ever done this before? Open your browser right now and type \"recursion\" on Google. Did you notice the **“Did you mean: recursion”** message? Uhm yes, but what does it mean really? Go further, click on that message. It will appear again. Click again. There it is again. Click… ENOUGH!\n",
    "<br>\n",
    "<img src=\"images/google.png\" style=\"display: block; margin-left:auto; margin-right:auto; width:50%\"/> <br>\n",
    "\n",
    "\n",
    "**Recursion** is the process of repeating items in a self-similar way."
   ]
  },
  {
   "cell_type": "markdown",
   "metadata": {},
   "source": [
    "* A recursive function is a function that calls itself within its definition.\n",
    "* This can be hard to get your head around at first, but think of it as a breaking a big problem down into doing a small problem many times over.\n",
    "* This means that a complex problem can be made increasingly simpler by repeatedly doing a simpler and simpler and simpler form of the same problem with each repetition.\n",
    "* However, we must provide a 'simplest form' of the function where the function stops, otherwise it will repeat forever and throw an error.\n",
    "* We call this 'simplest form' a base case.\n",
    "* This is best illustrated with an example:"
   ]
  },
  {
   "cell_type": "code",
   "execution_count": 1,
   "metadata": {},
   "outputs": [
    {
     "name": "stdout",
     "output_type": "stream",
     "text": [
      "5\n",
      "4\n",
      "3\n",
      "2\n",
      "1\n",
      "0\n"
     ]
    }
   ],
   "source": [
    "# Function that takes in as input the starting number to countdown from\n",
    "def countdown(n):\n",
    "    \n",
    "    # base case: this is where the function will eventually stop\n",
    "    if n == 0:\n",
    "        print(0)\n",
    "        \n",
    "    # here we reduce the problem into a simpler version\n",
    "    else:\n",
    "        \n",
    "        # we print the countdown number\n",
    "        print(n)\n",
    "        \n",
    "        # we repeat the function with the next smallest number\n",
    "        countdown(n-1)\n",
    "        \n",
    "\n",
    "countdown(5)"
   ]
  },
  {
   "cell_type": "markdown",
   "metadata": {},
   "source": [
    "<a id='real'></a>\n",
    "## Examples of real-life problems that are recursive in nature"
   ]
  },
  {
   "cell_type": "markdown",
   "metadata": {},
   "source": [
    "Here are some examples from our daily life:\n",
    "<br>**DNA**\n",
    "<br>\n",
    "<img src=\"images/dna.jpg\" style=\"display: block; margin-left:auto; margin-right:auto; width:30%\"/> <br>\n",
    "\n",
    "\n",
    "([Source](https://qph.fs.quoracdn.net/main-qimg-905203aa42ecfa447e613c1dee2e3b4e-c))<br>\n",
    "\n",
    "**Romanesco broccoli**: its pattern has been modeled as a recursive helical arrangement of cones.\t\n",
    "<br>\n",
    "<img src=\"images/rom.jpg\" style=\"display: block; margin-left:auto; margin-right:auto; width:30%\"/> <br>\n",
    "\n",
    "\n",
    "([Source](https://qph.fs.quoracdn.net/main-qimg-2d3fccb284d0e185d9d20b8d0268bb32-c))<br>\n",
    "\n",
    "**Russian dolls**   \n",
    "<br>\n",
    "<img src=\"images/rus.jpg\" style=\"display: block; margin-left:auto; margin-right:auto; width:30%\"/> <br>\n",
    "\n",
    "\n",
    "([Source](http://pythonpracticeprojects.com/real-world-recursion.html))<br>\n"
   ]
  },
  {
   "cell_type": "markdown",
   "metadata": {},
   "source": [
    "<a id='step'></a>\n",
    "## Recursive steps vs base case"
   ]
  },
  {
   "cell_type": "markdown",
   "metadata": {},
   "source": [
    "**recursive\tstep**\t\n",
    "* \tthink\thow\tto\treduce\tproblem\tto\ta\tsimpler/smaller\tversion\tof\tsame\tproblem\t\t\n",
    "\n",
    "**base\tcase**\n",
    "* \tkeep\treducing problem\tuntil\treach\ta\tsimple\tcase\tthat\tcan\tbe\tsolved\tdirectly\t\n",
    "* \twhen\tb\t=\t1,\ta*b\t=\ta\t\n",
    "\n",
    "You can see recursive step and base case part in the multiplication example shown below:\n",
    "<br>\n",
    "<img src=\"images/recu.png\" style=\"display: block; margin-left:auto; margin-right:auto; width:30%\"/> <br>\n",
    "\n",
    "([Source](https://ocw.mit.edu/courses/electrical-engineering-and-computer-science/6-0001-introduction-to-computer-science-and-programming-in-python-fall-2016/lecture-slides-code/MIT6_0001F16_Lec6.pdf))<br>\n",
    "\n",
    "\n",
    "* In a base case, we compute the result immediately given the inputs to the function call.\n",
    "* In a recursive step, we compute the result with the help of one or more recursive calls to this same function, but with the inputs somehow reduced in size or complexity, closer to a base case."
   ]
  },
  {
   "source": [
    "As a code break, let's see if you can write your very own, first recursive function to take one input to the power of the other. Remembering that:\n",
    "- $a^{b} = a \\times a \\times a \\times ... \\times a $: b times"
   ],
   "cell_type": "markdown",
   "metadata": {}
  },
  {
   "cell_type": "code",
   "execution_count": null,
   "metadata": {},
   "outputs": [],
   "source": [
    "## It's coding time!!!"
   ]
  },
  {
   "cell_type": "markdown",
   "metadata": {},
   "source": [
    "<a id='rec-iter'></a>\n",
    "## Recursion vs Iteration"
   ]
  },
  {
   "cell_type": "markdown",
   "metadata": {},
   "source": [
    "* looping\tconstructs\t(while\tand\tfor\tloops)\tlead\tto\titerative algorithms\t\n",
    "* can\tcapture\tcomputation\tin\ta\tset\tof\tstate\tvariables that\tupdate\ton\teach\titeration\tthrough\tloop\n",
    "\n",
    "A program is called __recursive__ when an entity calls itself. A program is called __iterative__ when there is a loop (or repetition). Example: Program to find the factorial of a number. Remember that the factorial of a number $x$, denoted as $x!$, is given by:\n",
    "- $x!$ = $x \\times (x-1) \\times (x-2) \\times ... \\times 2 \\times 1 = x \\times (x-1)!$\n",
    "- e.g.\n",
    "    - $3! = 3 \\times 2 \\times 1 = 6$\n",
    "    - $4! = 4 \\times 3 \\times 2 \\times 1 = 4 \\times 3! = 24$"
   ]
  },
  {
   "cell_type": "code",
   "execution_count": null,
   "metadata": {},
   "outputs": [],
   "source": [
    "# ----- Recursion ----- \n",
    "# method to find factorial of given number \n",
    "def factorialUsingRecursion(n): \n",
    "    # base case\n",
    "    if (n == 0): \n",
    "        return 1; \n",
    "\n",
    "    # recursion call \n",
    "    return n * factorialUsingRecursion(n - 1); \n",
    "  \n",
    "# ----- Iteration ----- \n",
    "# Method to find the factorial of a given number \n",
    "def factorialUsingIteration(n): \n",
    "    res = 1; \n",
    "\n",
    "    # using iteration \n",
    "    for i in range(2, n + 1): \n",
    "        res *= i; \n",
    "\n",
    "    return res; \n",
    "  \n",
    "# Driver method \n",
    "num = 5; \n",
    "print(\"Factorial of\",num,\"using Recursion is:\", \n",
    "                    factorialUsingRecursion(5)); \n",
    "  \n",
    "print(\"Factorial of\",num,\"using Iteration is:\", \n",
    "                    factorialUsingIteration(5)); \n",
    "      \n",
    "# This code is contributed by mits"
   ]
  },
  {
   "cell_type": "markdown",
   "metadata": {},
   "source": [
    "<br>\n",
    "<img src=\"images/rec_it.png\" style=\"display: block; margin-left:auto; margin-right:auto; width:40%\"/> <br>\n",
    "\n",
    "([Source](https://www.geeksforgeeks.org/difference-between-recursion-and-iteration/))<br>\n"
   ]
  },
  {
   "cell_type": "markdown",
   "metadata": {},
   "source": [
    "## Summary\n",
    "* Recursion is the process of repeating items in a self-similar way.\n",
    "* “Divide and conquer” algorithm solve a hard problem by breaking it into a set of subproblems\n",
    "* A program is called recursive when an entity calls itself.\n",
    "* A program is call iterative when there is a loop (or repetition). \n",
    "* Base case is to keep reducing problem until reach a simple case that can be solved directly\n",
    "* In a recursive step, we compute the result with the help of one or more recursive calls to this same function."
   ]
  },
  {
   "cell_type": "markdown",
   "metadata": {},
   "source": [
    "## Exercise: \n",
    "\n",
    "### Question 1\n",
    "Write a Python program to solve the Fibonacci sequence using recursion. For more info about Fibonacci: https://en.wikipedia.org/wiki/Fibonacci_number\n",
    "- Takes in an integer, $n$, as input representing the number of the term in the sequence you would like to calculate\n",
    "- Returns the $n^{th}$ term of the Fibonacci sequence"
   ]
  },
  {
   "cell_type": "markdown",
   "metadata": {},
   "source": [
    "### Question 2\n",
    "Write a recursive Python function that has a\n",
    "parameter representing a list of integers and returns the maximum\n",
    "stored in the list. Thinking recursively, the maximum is either the\n",
    "first value in the list or the maximum of the rest of the list,\n",
    "whichever is larger. If the list only has 1 integer, then its maximum\n",
    "is this single value, naturally.\n",
    "\n",
    "* Helpful Python syntax:\n",
    "If A is a list of integers, and you want to set the list B to all of the\n",
    "integers in A except the first one, you can write\n",
    "\n",
    "         B = A[1:len(A)]\n",
    "\n",
    "(This sets B to the integers in A starting at index 1 and ending at\n",
    "index len(A)-1, the last index. The integer in the first position of A\n",
    "at index 0 is not included.)\n",
    "\n",
    "\n",
    "The function will:\n",
    "- Take in a list of numbers as an input argument\n",
    "- Return the maximum value from the input list"
   ]
  }
 ],
 "metadata": {
  "kernelspec": {
   "display_name": "Python 3.7.3 64-bit",
   "language": "python",
   "name": "python37364bite72acbb0cda24fc4847ed421ff53abec"
  },
  "language_info": {
   "codemirror_mode": {
    "name": "ipython",
    "version": 3
   },
   "file_extension": ".py",
   "mimetype": "text/x-python",
   "name": "python",
   "nbconvert_exporter": "python",
   "pygments_lexer": "ipython3",
   "version": "3.7.3"
  }
 },
 "nbformat": 4,
 "nbformat_minor": 2
}