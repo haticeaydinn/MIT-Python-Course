{
 "cells": [
  {
   "cell_type": "markdown",
   "metadata": {},
   "source": [
    "# 1.1.1. Tuples, Lists & Dictionaries"
   ]
  },
  {
   "cell_type": "markdown",
   "metadata": {},
   "source": [
    "## Learning Objectives\n",
    "\n",
    "* [Compound data types](#comp)\n",
    "* [Lists](#list)\n",
    "* [Tuples](#tuple)\n",
    "* [Aliasing & Cloning](#alias)\n",
    "* [Dictionaries](#dicti)"
   ]
  },
  {
   "cell_type": "markdown",
   "metadata": {},
   "source": [
    "<a id='comp'></a>\n",
    "##  Compound data types"
   ]
  },
  {
   "cell_type": "markdown",
   "metadata": {},
   "source": [
    "You learned about simple datatypes in Python such as integers, strings, and floats. In this notebook, you’re going to learn about more complex datatypes that are made of one or more other datatypes. \n",
    "<br>A compound data type is one that holds multiple independent values. This data type comprise smaller pieces.\n",
    "* lists\n",
    "* tuples\n",
    "* dictionaries\n",
    "* sets"
   ]
  },
  {
   "cell_type": "markdown",
   "metadata": {},
   "source": [
    "<a id='list'></a>\n",
    "## Lists"
   ]
  },
  {
   "cell_type": "markdown",
   "metadata": {},
   "source": [
    "Suppose, you need to go shopping and make a list of the items you're going to buy. Your shopping list works similar like Python list.\n",
    "\n",
    "<br>\n",
    "<img src=\"images/shop.png\" style=\"display:block; margin-left:auto; margin-right:auto; width:40%\"/> <br>\n",
    "\n",
    "([Source](https://lh3.googleusercontent.com/proxy/ej5HBW3F8ubVnxtCVqItJ89csT_jm-EL2se6SO5SmVO-eFtd0O-H4JGqDtC1rEcxYyub6lYjAoZ4yiEMkdYoYOu6yUfQ8-uobmnvjll0G5pT6mnlkdxgzqqCDhw5IzKf))<br>\n",
    "\n",
    "* Powerful data type in Python.\n",
    "* Denoted by square brackets [].\n",
    "* Store items as a __mutable__, __ordered__ sequence of elements.\n",
    "* Each element in a list is an item.\n",
    "* Elements can be an integer, a string, float, or other things.\n",
    "* Support indexing and slicing.\n",
    "* Can nest lists within each other.\n",
    "\n",
    "So back to our shopping list, we can represent it in Python:\n",
    "\n"
   ]
  },
  {
   "cell_type": "code",
   "execution_count": null,
   "metadata": {},
   "outputs": [],
   "source": [
    "shopping_list = [\"Milk\", \"Eggs\", \"Cheese\", \"Butter\"]\n",
    "type(shopping_list)"
   ]
  },
  {
   "cell_type": "markdown",
   "metadata": {},
   "source": [
    "* Mutable: can be changed after creation (supports addition/removal/reassignment of items).\n",
    "* Ordered: as it sounds, has a fixed order (the order of elements provided at the time of assignment) and so can be indexed using numbers.\n",
    "* Hence a list [2,1,3,4] will not be rearranged, 2 will be the first element, 1 will be the second... etc.\n",
    "* Sequence of elements: fairly self explanatory.\n",
    "\n",
    "We'll look at some list methods and you can find more methods here: https://docs.python.org/3/tutorial/datastructures.html"
   ]
  },
  {
   "cell_type": "code",
   "execution_count": 1,
   "metadata": {},
   "outputs": [
    {
     "name": "stdout",
     "output_type": "stream",
     "text": [
      "[5, 2, 6, 9, 9, 20]\n",
      "[5, 10, 2, 6, 9, 9, 20]\n",
      "[5, 10, 2, 6, 9, 9]\n",
      "[5, 10, 2, 6, 9]\n",
      "[5, 10, 2, 6, 9]\n",
      "[2, 5, 6, 9, 10]\n",
      "[10, 9, 6, 5, 2]\n",
      "[10, 9, 6, 5, 2]\n",
      "[]\n",
      "False\n",
      "[]\n"
     ]
    }
   ],
   "source": [
    "# list methods\n",
    "\n",
    "numbers = [5, 2, 6, 9, 9]\n",
    "\n",
    "numbers.append(20)     # add 20 to the end of list\n",
    "print(numbers)\n",
    "numbers.insert(1, 10)  # add 10 to the index 1 in list\n",
    "print(numbers)\n",
    "numbers.remove(20)     # remove 20 from list\n",
    "print(numbers)\n",
    "numbers.pop()          # drop the last item of list\n",
    "print(numbers)\n",
    "numbers.count(9)       # count how many 9 is in list\n",
    "print(numbers)\n",
    "numbers.sort()         # sort list ascending\n",
    "print(numbers)\n",
    "numbers.reverse()      # reverse list\n",
    "print(numbers)\n",
    "numbers.index(6)       # get the index of 6, for example index of 6 equals to 3\n",
    "print(numbers)\n",
    "numbers.clear()        # clear all list, get empty list\n",
    "print(numbers)\n",
    "condition = 50 in numbers          # check if 50 is in list and return boolean True or False\n",
    "print(condition)\n",
    "numbers2 = numbers.copy()  # copy numbers list and create a new list called numbers2\n",
    "print(numbers2)"
   ]
  },
  {
   "cell_type": "code",
   "execution_count": 3,
   "metadata": {},
   "outputs": [
    {
     "name": "stdout",
     "output_type": "stream",
     "text": [
      "This is a sentence.\n",
      "1 + 3 + 4 + 5\n"
     ]
    }
   ],
   "source": [
    "# use \"sep\".join(list) to join a list of strings using a separator\n",
    "\n",
    "list_of_strings = [\"This\", \"is\", \"a\", \"sentence.\"]\n",
    "list_of_number_strings = [\"1\", \"3\", \"4\", \"5\"]\n",
    "\n",
    "print(\" \".join(list_of_strings))\n",
    "print(\" + \".join(list_of_number_strings))"
   ]
  },
  {
   "cell_type": "code",
   "execution_count": 4,
   "metadata": {},
   "outputs": [
    {
     "data": {
      "text/plain": [
       "4"
      ]
     },
     "execution_count": 4,
     "metadata": {},
     "output_type": "execute_result"
    }
   ],
   "source": [
    "my_list = [3, \"three\", 3.0, True]\n",
    "\n",
    "# use len() function to check length\n",
    "len(my_list)"
   ]
  },
  {
   "cell_type": "code",
   "execution_count": 7,
   "metadata": {},
   "outputs": [
    {
     "name": "stdout",
     "output_type": "stream",
     "text": [
      "1 9\n",
      "a z\n"
     ]
    }
   ],
   "source": [
    "# use min() and max() to find highest and lowest item in lists\n",
    "# works in alphabetical order with strings\n",
    "\n",
    "new_list = [1, 2, 3, 4, 5, 6, 7, 8, 9]\n",
    "\n",
    "print(min(new_list), max(new_list))\n",
    "\n",
    "alphabet = list(\"abcdefghijklmnopqrstuvwxyz\")\n",
    "print(min(alphabet), max(alphabet))"
   ]
  },
  {
   "cell_type": "code",
   "execution_count": 8,
   "metadata": {},
   "outputs": [
    {
     "data": {
      "text/plain": [
       "[3, 'three', 3.0]"
      ]
     },
     "execution_count": 8,
     "metadata": {},
     "output_type": "execute_result"
    }
   ],
   "source": [
    "# indexing and slicing\n",
    "\n",
    "# Index 0 gives first element\n",
    "my_list[1]\n",
    "\n",
    "# Use colon to indicate slice, 1:3 returns 2nd and 3rd items but not 4th\n",
    "my_list[1:3]\n",
    "\n",
    "# No upper bound starts with first index indicated and gives everything beyond\n",
    "my_list[1:]\n",
    "\n",
    "# No lower bound starts from index 0, up to but not including upper bound\n",
    "my_list[:3]\n"
   ]
  },
  {
   "cell_type": "markdown",
   "metadata": {},
   "source": [
    "Now it's our chance to get some practice in. Write a function that takes in a name and a sentence, and returns True if the name is in the sentence, and no if it's not."
   ]
  },
  {
   "cell_type": "code",
   "execution_count": 10,
   "metadata": {},
   "outputs": [
    {
     "name": "stdout",
     "output_type": "stream",
     "text": [
      "False\n"
     ]
    }
   ],
   "source": [
    "## Code break!"
   ]
  },
  {
   "cell_type": "code",
   "execution_count": null,
   "metadata": {},
   "outputs": [],
   "source": [
    "# Lists can be an item within a list\n",
    "# Lists within lists are called nested\n",
    "lst_1=[1,2,3]\n",
    "lst_2=[4,5,6]\n",
    "lst_3=[7,8,9]\n",
    "\n",
    "# Make a list of lists to form a nested list\n",
    "nest_list = [lst_1,lst_2,lst_3]\n",
    "nest_list"
   ]
  },
  {
   "cell_type": "code",
   "execution_count": null,
   "metadata": {},
   "outputs": [],
   "source": [
    "# Must reassign list to change original\n",
    "my_list = my_list + ['add new item permanently']\n",
    "\n",
    "my_list"
   ]
  },
  {
   "cell_type": "markdown",
   "metadata": {},
   "source": [
    "Write a function that takes in a sentence as input, and returns the same sentence, but with the words in the reverse word"
   ]
  },
  {
   "cell_type": "code",
   "execution_count": null,
   "metadata": {},
   "outputs": [],
   "source": [
    "## Code break!\n",
    "def word_reversal(sentence):\n",
    "    pass\n",
    "\n",
    "\n",
    "my_string2 = 'This is actually a significantly longer phrase than the next one'\n",
    "print(word_reversal(my_string2))\n",
    "# output should be: 'one previous the than phrase longer significantly a actually is This'\n",
    "\n",
    "my_string1 = 'This is a short phrase'\n",
    "print(word_reversal(my_string1))\n",
    "# output should be: 'phrase short a is This'\n",
    "\n"
   ]
  },
  {
   "cell_type": "markdown",
   "metadata": {},
   "source": [
    "<a id='tuple'></a>\n",
    "##  Tuples"
   ]
  },
  {
   "cell_type": "markdown",
   "metadata": {},
   "source": [
    "Suppose, we're writing a Python program and we need a data type which we do not want to be changed by mistake in the program. We want to store the latitude and longitude of your home. Here we have **tuples!!!** A tuple always has a predefined number of elements (in this specific example, two). The same Tuple type can be used to store the coordinates of other locations. \n",
    "\n",
    "* Tuples are like lists: flexible data input.\n",
    "* But they are immutable: cannot be changed once created.\n",
    "* Therefore no append/extend/remove/pop methods and no item reassignment for tuples.\n",
    "* Useful for holding values in data that you do not want to be reassigned by accident.\n",
    "* Denoted by parentheses, (),  instead of square brackets\n",
    "\n",
    "Tuples have only two methods:\n",
    "* The number of the element written with **count()** is obtained.\n",
    "* The index of the element written with **index()** is obtained."
   ]
  },
  {
   "cell_type": "code",
   "execution_count": 11,
   "metadata": {},
   "outputs": [
    {
     "data": {
      "text/plain": [
       "tuple"
      ]
     },
     "execution_count": 11,
     "metadata": {},
     "output_type": "execute_result"
    }
   ],
   "source": [
    "# immutable but flexible data input\n",
    "t = (1,2,3)\n",
    "t1 = (1, \"two\", 3)\n",
    "t2 = (\"a\", \"a\", \"b\")\n",
    "\n",
    "type(t)"
   ]
  },
  {
   "cell_type": "code",
   "execution_count": 12,
   "metadata": {},
   "outputs": [
    {
     "name": "stdout",
     "output_type": "stream",
     "text": [
      "2\n",
      "3\n"
     ]
    }
   ],
   "source": [
    "coordinate = (1, 2, 3)\n",
    "# x = coordinate[0]\n",
    "# y = coordinate[1]\n",
    "# z = coordinate[2]\n",
    "# shortcut for the assginment written above, we can use unpacking !!!\n",
    "x, y, z = coordinate  # <-- unpackingprint(x)\n",
    "print(y)\n",
    "print(z)"
   ]
  },
  {
   "cell_type": "code",
   "execution_count": 13,
   "metadata": {},
   "outputs": [
    {
     "data": {
      "text/plain": [
       "True"
      ]
     },
     "execution_count": 13,
     "metadata": {},
     "output_type": "execute_result"
    }
   ],
   "source": [
    "# can use in operator to check if item is in tuple\n",
    "1 in t1"
   ]
  },
  {
   "cell_type": "code",
   "execution_count": 15,
   "metadata": {},
   "outputs": [
    {
     "ename": "TypeError",
     "evalue": "'tuple' object does not support item assignment",
     "output_type": "error",
     "traceback": [
      "\u001b[0;31m---------------------------------------------------------------------------\u001b[0m",
      "\u001b[0;31mTypeError\u001b[0m                                 Traceback (most recent call last)",
      "\u001b[0;32m<ipython-input-15-3d166a200a44>\u001b[0m in \u001b[0;36m<module>\u001b[0;34m\u001b[0m\n\u001b[0;32m----> 1\u001b[0;31m \u001b[0mt1\u001b[0m\u001b[0;34m[\u001b[0m\u001b[0;36m1\u001b[0m\u001b[0;34m]\u001b[0m \u001b[0;34m=\u001b[0m \u001b[0;34m\"ten\"\u001b[0m\u001b[0;34m\u001b[0m\u001b[0;34m\u001b[0m\u001b[0m\n\u001b[0m",
      "\u001b[0;31mTypeError\u001b[0m: 'tuple' object does not support item assignment"
     ]
    }
   ],
   "source": [
    "t1[1] = \"ten\""
   ]
  },
  {
   "cell_type": "code",
   "execution_count": 17,
   "metadata": {},
   "outputs": [
    {
     "name": "stdout",
     "output_type": "stream",
     "text": [
      "The length of the tuple is 3\n"
     ]
    }
   ],
   "source": [
    "# check length with len() function\n",
    "print(\"The length of the tuple is {}\".format(len(t)))"
   ]
  },
  {
   "cell_type": "code",
   "execution_count": null,
   "metadata": {},
   "outputs": [],
   "source": [
    "# count instances using .count() method\n",
    "t2.count(\"a\")\n",
    "print(\"a occurs {x} times in the tuple\".format(x=t2.count(\"a\")))"
   ]
  },
  {
   "cell_type": "code",
   "execution_count": null,
   "metadata": {},
   "outputs": [],
   "source": [
    "# find first index using .index() method\n",
    "t2.index(\"a\")\n",
    "print(\"a occurs first at index {x} in the tuple\".format(x=t2.index(\"a\")))"
   ]
  },
  {
   "cell_type": "markdown",
   "metadata": {},
   "source": [
    "### Tuple Packing and Unpacking\n",
    "* One of the most powerful aspects of tuples is a technique called tuple unpacking.\n",
    "* This allows us to assign variables using commas from a single tuple in order.\n",
    "* The syntax works as below, although the brackets can be omitted, unless required to be clear.\n",
    "\n",
    "Python here 'unpacks' the tuple automatically and picks out the values and assigns them to the comma-separated variables. Note that lists can also be unpacked."
   ]
  },
  {
   "cell_type": "code",
   "execution_count": 18,
   "metadata": {},
   "outputs": [
    {
     "name": "stdout",
     "output_type": "stream",
     "text": [
      "1\n",
      "2\n",
      "3\n",
      "(1, 2, 3)\n"
     ]
    }
   ],
   "source": [
    "# Tuples can also be packed in the same way. Again, useful for multiple variable assignment:\n",
    "a, b, c = 1, 2, 3\n",
    "\n",
    "print(a)\n",
    "print(b)\n",
    "print(c)\n",
    "\n",
    "t1 = a, b, c\n",
    "\n",
    "print(t1)"
   ]
  },
  {
   "cell_type": "markdown",
   "metadata": {},
   "source": [
    "Write a function that checks if the two words in a two-word string start with the same letter.\n",
    "Copy-paste (and slightly modify) your code to try it for both cases."
   ]
  },
  {
   "cell_type": "code",
   "execution_count": null,
   "metadata": {},
   "outputs": [],
   "source": [
    "## Code break\n",
    "\n",
    "# Try on these examples!\n",
    "phrase1 = 'Clean Couch' \n",
    "phrase2 = 'Giant Table'"
   ]
  },
  {
   "cell_type": "markdown",
   "metadata": {},
   "source": [
    "<a id='alias'></a>\n",
    "## Aliasing & Cloning"
   ]
  },
  {
   "cell_type": "markdown",
   "metadata": {},
   "source": [
    "Since variables refer to objects, if we assign one variable to another, both variables refer to the same object:"
   ]
  },
  {
   "cell_type": "code",
   "execution_count": null,
   "metadata": {},
   "outputs": [],
   "source": [
    "a = [81, 82, 83]\n",
    "b = a\n",
    "print(a is b)"
   ]
  },
  {
   "cell_type": "markdown",
   "metadata": {},
   "source": [
    "In this case, the reference diagram looks like this:\n",
    "\n",
    "<br>\n",
    "<img src=\"images/alias.png\" style=\"display: block; margin-left:auto; margin-right:auto; width:30%\"/> <br>\n",
    "\n",
    "([Source](https://pages.di.unipi.it/marino/python/_images/refdiag4.png))<br>\n",
    "\n",
    "\n",
    "Because the same list has two different names, a and b, we say that it is **aliased**. Changes made with one alias affect the other. In the example below, you can see that a and b refer to the same list after executing the assignment statement b = a.\n",
    "\n",
    "Although this behavior can be useful, it is sometimes unexpected or undesirable. In general, it is safer to avoid aliasing when you are working with mutable objects. Of course, for immutable objects, there’s no problem. That’s why Python is free to alias strings and integers when it sees an opportunity to save space!\n",
    "\n",
    "**! append() has a side effect here**"
   ]
  },
  {
   "cell_type": "code",
   "execution_count": 11,
   "metadata": {},
   "outputs": [
    {
     "name": "stdout",
     "output_type": "stream",
     "text": [
      "True\n",
      "False\n"
     ]
    }
   ],
   "source": [
    "a = [81, 82, 83]\n",
    "b = [81, 82, 83]\n",
    "\n",
    "print(a == b)\n",
    "print(a is b)"
   ]
  },
  {
   "cell_type": "code",
   "execution_count": 12,
   "metadata": {},
   "outputs": [
    {
     "name": "stdout",
     "output_type": "stream",
     "text": [
      "True\n",
      "True\n"
     ]
    }
   ],
   "source": [
    "b = a\n",
    "print(a == b)\n",
    "print(a is b)"
   ]
  },
  {
   "cell_type": "code",
   "execution_count": 13,
   "metadata": {},
   "outputs": [
    {
     "name": "stdout",
     "output_type": "stream",
     "text": [
      "[5, 82, 83]\n"
     ]
    }
   ],
   "source": [
    "# changing one changes the other!\n",
    "\n",
    "b[0] = 5   # we changed only \"b\"\n",
    "print(a)   # see if \"a\" changed?"
   ]
  },
  {
   "cell_type": "markdown",
   "metadata": {},
   "source": [
    "If we want to modify a list and also keep a copy of the original, we need to be able to make a copy of the list itself, not just the reference. This process is sometimes called **cloning**, to avoid the ambiguity of the word copy.\n",
    "\n",
    "The easiest way to clone a list is to use the slice operator.\n",
    "\n",
    "Taking any slice of a creates a new list. In this case the slice happens to consist of the whole list."
   ]
  },
  {
   "cell_type": "code",
   "execution_count": 14,
   "metadata": {},
   "outputs": [
    {
     "name": "stdout",
     "output_type": "stream",
     "text": [
      "True\n",
      "False\n"
     ]
    }
   ],
   "source": [
    "a = [81, 82, 83]\n",
    "\n",
    "b = a[:]       # make a clone using slice\n",
    "print(a == b)\n",
    "print(a is b)"
   ]
  },
  {
   "cell_type": "code",
   "execution_count": 15,
   "metadata": {},
   "outputs": [
    {
     "name": "stdout",
     "output_type": "stream",
     "text": [
      "[81, 82, 83]\n",
      "[5, 82, 83]\n"
     ]
    }
   ],
   "source": [
    "b[0] = 5\n",
    "\n",
    "print(a)\n",
    "print(b)"
   ]
  },
  {
   "cell_type": "markdown",
   "metadata": {},
   "source": [
    "Now we are free to make changes to b without worrying about a. Again, we can clearly see in codelens that a and b are entirely different list objects."
   ]
  },
  {
   "cell_type": "markdown",
   "metadata": {},
   "source": [
    "<a id='dicti'></a>\n",
    "## Dictionaries"
   ]
  },
  {
   "cell_type": "markdown",
   "metadata": {},
   "source": [
    "Sometimes, dictionaries are a better choice to store data. Suppose you're a store manager and you have lots of customer. For example, Örneğin, a customer may have the following information:\n",
    "* Name = John Smith\n",
    "* Email = john@gmail.com\n",
    "* Phone = 12345\n",
    "\n",
    "In the example below, where the user would enter their name, surname and age a dictionary would be a better choice to store the data:"
   ]
  },
  {
   "cell_type": "code",
   "execution_count": 20,
   "metadata": {},
   "outputs": [],
   "source": [
    "mydict = {\"name\":\"John\", \"surname\":\"Smith\", \"age\":29}"
   ]
  },
  {
   "cell_type": "markdown",
   "metadata": {},
   "source": [
    "As you see a dictionary would be more appropriate when it’s important to have metadata about the data. Metadata are information about the data so here we know that John is the name. So, a dictionary is an array of pairs of keys and values. The mydict dictionary has three keys (name, surname, and age) and three values (John, Smith, and 29).\n",
    "\n",
    "To access data from a dictionary you would do:"
   ]
  },
  {
   "cell_type": "code",
   "execution_count": 22,
   "metadata": {},
   "outputs": [
    {
     "name": "stdout",
     "output_type": "stream",
     "text": [
      "Smith\n"
     ]
    }
   ],
   "source": [
    "print(mydict[\"surname\"])"
   ]
  },
  {
   "cell_type": "markdown",
   "metadata": {},
   "source": [
    "* Dictionaries are unordered collections of **key:value** pairs.\n",
    "* Keys must be strings (can be any immutable type but best practice to use strings).\n",
    "* Values can be any data type, including dictionaries themselves (nesting).\n",
    "* Indexed using keys.\n",
    "\n",
    "Back to our customer info,\n",
    "* Name, Email and Phone : **\"Key\"**\n",
    "* John Smith, john@gmail.com and 12345 : **\"Value\"**"
   ]
  },
  {
   "cell_type": "code",
   "execution_count": 23,
   "metadata": {},
   "outputs": [
    {
     "name": "stdout",
     "output_type": "stream",
     "text": [
      "{'k2': 123, 'k1': [0, 1, 2], 'k4': {'insidekey': [100, 200]}}\n"
     ]
    }
   ],
   "source": [
    "# flexibility of data assignment inc. lists and sub-dictionaries\n",
    "d = {'k2':123, 'k1':[0,1,2], 'k4':{'insidekey':[100,200]}}\n",
    "\n",
    "print(d)"
   ]
  },
  {
   "cell_type": "code",
   "execution_count": null,
   "metadata": {},
   "outputs": [],
   "source": [
    "# indexing happens sequentially\n",
    "d['k4']['insidekey'][1]"
   ]
  },
  {
   "cell_type": "code",
   "execution_count": null,
   "metadata": {},
   "outputs": [],
   "source": [
    "# can stack calls\n",
    "d1 = {'k1':[\"a\", \"b\", \"c\"]}\n",
    "\n",
    "print(d1['k1'][2].upper())"
   ]
  },
  {
   "cell_type": "code",
   "execution_count": null,
   "metadata": {},
   "outputs": [],
   "source": [
    "# both of these methods give the same result\n",
    "print(d1['k1'][2].upper())\n",
    "\n",
    "x = d1['k1'][2]\n",
    "print(x.upper())"
   ]
  },
  {
   "cell_type": "code",
   "execution_count": null,
   "metadata": {},
   "outputs": [],
   "source": [
    "# add by assigning new pair, reassign\n",
    "d[\"k7\"] = \"NEW\"\n",
    "\n",
    "d[\"k1\"] = \"VALUE\"\n",
    "\n",
    "print(d)"
   ]
  },
  {
   "cell_type": "code",
   "execution_count": null,
   "metadata": {},
   "outputs": [],
   "source": [
    "# call all keys/values/pairs by .keys / .values / .items methods, .items returns tuples\n",
    "print(d.keys())\n",
    "print()\n",
    "print(d.values())\n",
    "print()\n",
    "print(d.items())"
   ]
  },
  {
   "cell_type": "code",
   "execution_count": null,
   "metadata": {},
   "outputs": [],
   "source": [
    "345 in d1.values()"
   ]
  },
  {
   "cell_type": "code",
   "execution_count": null,
   "metadata": {},
   "outputs": [],
   "source": [
    "345 in d1.keys()"
   ]
  },
  {
   "cell_type": "markdown",
   "metadata": {},
   "source": [
    "Write a function that takes in a two lists as arguments, and returns a dictionary, mapping individual components of the lists at the same index as key-value pairs."
   ]
  },
  {
   "cell_type": "code",
   "execution_count": null,
   "metadata": {},
   "outputs": [],
   "source": [
    "## Code break!!"
   ]
  },
  {
   "cell_type": "markdown",
   "metadata": {},
   "source": [
    "## Summary\n",
    "* A compound data type is one that holds multiple independent values.\n",
    "* A tuple always has a predefined number of elements.\n",
    "* Tuples are immutable!\n",
    "* One of the most powerful aspects of tuples is a technique called tuple unpacking.\n",
    "* Lists are very powerful data types in Python.\n",
    "* Dictionaries are unordered collections of key:value pairs.\n",
    "* If two lists are aliased, then changes made with one alias affect the other. "
   ]
  },
  {
   "cell_type": "markdown",
   "metadata": {},
   "source": [
    "# Challenge\n",
    "\n",
    "Write a function which converts phone numbers into number-words. Such as user will type 1234 and you will return \"One Two Three Four\". Tricky part, you need to assign \"?\" for unknown characters. It's called \"phone_number_converter\". Use dictionaries!!\n",
    "\n",
    "* Input: 1234\n",
    "* Output: One Two Three Four \n",
    "\n",
    "\n",
    "* Input: 123e4\n",
    "* Output: One Two Three ? Four "
   ]
  }
 ],
 "metadata": {
  "kernelspec": {
   "display_name": "Python 3",
   "language": "python",
   "name": "python3"
  },
  "language_info": {
   "codemirror_mode": {
    "name": "ipython",
    "version": 3
   },
   "file_extension": ".py",
   "mimetype": "text/x-python",
   "name": "python",
   "nbconvert_exporter": "python",
   "pygments_lexer": "ipython3",
   "version": "3.7.3"
  }
 },
 "nbformat": 4,
 "nbformat_minor": 2
}
