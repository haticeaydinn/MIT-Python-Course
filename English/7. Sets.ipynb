{
 "cells": [
  {
   "cell_type": "markdown",
   "metadata": {},
   "source": [
    "# 1.1.2. Sets"
   ]
  },
  {
   "cell_type": "markdown",
   "metadata": {},
   "source": [
    "## Learning Objectives\n",
    "\n",
    "* [Introduce basic set theory and set notation](#theory)\n",
    "* [Venn diagrams, all in parallel to set objects in Python](#venn)\n",
    "* [Examples of set operations](#oper)\n",
    "* [set() as a useful method of removing duplicates in Python](#set)\n"
   ]
  },
  {
   "cell_type": "markdown",
   "metadata": {},
   "source": [
    "<a id='theory'></a>\n",
    "## Introduce basic set theory and set notation"
   ]
  },
  {
   "cell_type": "markdown",
   "metadata": {},
   "source": [
    "Mathematically a **set** is a collection of items not in any particular order. A **Python set** is similar to this mathematical definition with below additional conditions.\n",
    "* **iterable:** An iterable is any Python object capable of returning its members one at a time, permitting it to be iterated over in a loop. _Check 1.0.2. String Manipulation notebook for more information about iterables._\n",
    "* **cannot be duplicates:** The elements in the set cannot be duplicates.\n",
    "* **immutable:** The elements in the set are immutable(cannot be modified) but the set as a whole is mutable. We can add or remove items from set. But we can not modify any items of it.\n",
    "* **no index:** There is no index attached to any element in a python set. So they do not support any indexing or slicing operation.\n",
    "* Defined with {}\n",
    "\n",
    "Sets are not ordered, which means we cannot access individual elements by their index. There are also no duplicates in sets. Consider the example set \"students in a classroom\""
   ]
  },
  {
   "cell_type": "code",
   "execution_count": 2,
   "metadata": {},
   "outputs": [
    {
     "name": "stdout",
     "output_type": "stream",
     "text": [
      "{'joe', 'bob', 'camila'}\n",
      "{'joe', 'bob', 'camila'}\n"
     ]
    },
    {
     "ename": "TypeError",
     "evalue": "unhashable type: 'list'",
     "output_type": "error",
     "traceback": [
      "\u001b[0;31m---------------------------------------------------------------------------\u001b[0m",
      "\u001b[0;31mTypeError\u001b[0m                                 Traceback (most recent call last)",
      "\u001b[0;32m<ipython-input-2-17dd6d404484>\u001b[0m in \u001b[0;36m<module>\u001b[0;34m\u001b[0m\n\u001b[1;32m     11\u001b[0m \u001b[0;31m# this will cause an error.\u001b[0m\u001b[0;34m\u001b[0m\u001b[0;34m\u001b[0m\u001b[0;34m\u001b[0m\u001b[0m\n\u001b[1;32m     12\u001b[0m \u001b[0;34m\u001b[0m\u001b[0m\n\u001b[0;32m---> 13\u001b[0;31m \u001b[0mmy_set\u001b[0m \u001b[0;34m=\u001b[0m \u001b[0;34m{\u001b[0m\u001b[0;34m'joe'\u001b[0m\u001b[0;34m,\u001b[0m \u001b[0;34m'bob'\u001b[0m\u001b[0;34m,\u001b[0m \u001b[0;34m'camila'\u001b[0m\u001b[0;34m,\u001b[0m \u001b[0;34m'joe'\u001b[0m\u001b[0;34m,\u001b[0m \u001b[0;34m'camila'\u001b[0m\u001b[0;34m,\u001b[0m \u001b[0;34m[\u001b[0m\u001b[0;34m'jamie'\u001b[0m\u001b[0;34m,\u001b[0m \u001b[0;34m'phoebe'\u001b[0m\u001b[0;34m]\u001b[0m\u001b[0;34m}\u001b[0m\u001b[0;34m\u001b[0m\u001b[0;34m\u001b[0m\u001b[0m\n\u001b[0m",
      "\u001b[0;31mTypeError\u001b[0m: unhashable type: 'list'"
     ]
    }
   ],
   "source": [
    "# set cannot have duplicates\n",
    "my_set = {'joe', 'bob', 'camila', 'joe', 'camila'}\n",
    "print(my_set)\n",
    "\n",
    "# we can make set from a list\n",
    "my_set = set(['joe', 'bob', 'camila', 'joe', 'camila'])\n",
    "print(my_set)\n",
    "\n",
    "# set cannot have mutable items\n",
    "# here [3, 4] is a mutable list\n",
    "# this will cause an error.\n",
    "\n",
    "my_set = {'joe', 'bob', 'camila', 'joe', 'camila', ['jamie', 'phoebe']}"
   ]
  },
  {
   "cell_type": "markdown",
   "metadata": {},
   "source": [
    "<br>Sets can also be used to perform mathematical set operations between them like union, intersection, symmetric difference:\n",
    "- __Union ($\\cup$)__: All the elements of both sets (removing duplicates)\n",
    "- __Intersection ($\\cap$)__: Only the elements that appear in both sets\n",
    "- __Symmetric Difference ($\\triangle$)__: All the elements of both sets, except the elements that appear in both sets\n",
    "\n",
    "<br>Python’s set class represents the mathematical notion of a set. A set is created by placing all the items (elements) inside curly braces {}, separated by comma, or by using the built-in set() function. The basic structures are shown below. **Please note how the order of the elements has changed in the result.**"
   ]
  },
  {
   "cell_type": "code",
   "execution_count": 1,
   "metadata": {},
   "outputs": [
    {
     "name": "stdout",
     "output_type": "stream",
     "text": [
      "{1, 2, 3}\n",
      "{1.0, 'Hello', (1, 2, 3)}\n"
     ]
    }
   ],
   "source": [
    "# Different types of sets in Python\n",
    "# set of integers\n",
    "my_set = {1, 2, 3}\n",
    "print(my_set)\n",
    "\n",
    "# set of mixed datatypes\n",
    "my_set = {1.0, \"Hello\", (1, 2, 3)}\n",
    "print(my_set)"
   ]
  },
  {
   "cell_type": "code",
   "execution_count": 2,
   "metadata": {},
   "outputs": [
    {
     "name": "stdout",
     "output_type": "stream",
     "text": [
      "{'Tue', 'Sat', 'Thu', 'Mon', 'Sun', 'Wed', 'Fri'}\n",
      "{'Feb', 'Jan', 'Mar'}\n",
      "{17, 21, 22}\n"
     ]
    }
   ],
   "source": [
    "# created by using the built-in set() function\n",
    "Days=set([\"Mon\",\"Tue\",\"Wed\",\"Thu\",\"Fri\",\"Sat\",\"Sun\"])\n",
    "Months={\"Jan\",\"Feb\",\"Mar\"}\n",
    "Dates={21,22,17}\n",
    "print(Days)\n",
    "print(Months)\n",
    "print(Dates)"
   ]
  },
  {
   "cell_type": "markdown",
   "metadata": {},
   "source": [
    "<a id='venn'></a>\n",
    "## Venn diagrams, all in parallel to set objects in Python"
   ]
  },
  {
   "cell_type": "markdown",
   "metadata": {},
   "source": [
    "Let's visualize sets!"
   ]
  },
  {
   "cell_type": "markdown",
   "metadata": {},
   "source": [
    "* **Set Union**\n",
    "<br>Union of A and B is a set of all elements from both sets.\n",
    "Union is performed using | operator. Same can be accomplished using the union() method.\n",
    "<br>\n",
    "<img src=\"images/union.png\" style=\"display: block; margin-left:auto; margin-right:auto; width:30%\"/> <br>\n",
    "\n",
    "([Source](https://www.programiz.com/python-programming/set))<br>\n",
    "\n",
    "* **Set Intersection**\n",
    "<br>Intersection of A and B is a set of elements that are common in both the sets.\n",
    "Intersection is performed using & operator. Same can be accomplished using the intersection() method.\n",
    "<br>\n",
    "<img src=\"images/inters.png\" style=\"display: block; margin-left:auto; margin-right:auto; width:30%\"/> <br>\n",
    "\n",
    "([Source](https://www.programiz.com/python-programming/set))<br>\n",
    "\n",
    "* **Set Difference**\n",
    "<br>Difference of the set B from set A(A - B) is a set of elements that are only in A but not in B. Similarly, B - A is a set of elements in B but not in A.\n",
    "Difference is performed using - operator. Same can be accomplished using the difference() method.\n",
    "<br>\n",
    "<img src=\"images/diff.png\" style=\"display: block; margin-left:auto; margin-right:auto; width:30%\"/> <br>\n",
    "\n",
    "([Source](https://www.programiz.com/python-programming/set))<br>\n",
    "\n",
    "* **Set Symmetric Difference**\n",
    "<br>Symmetric Difference of A and B is a set of elements in A and B but not in both (excluding the intersection).\n",
    "Symmetric difference is performed using ^ operator. Same can be accomplished using the method symmetric_difference().\n",
    "<br>\n",
    "<img src=\"images/sym.png\" style=\"display: block; margin-left:auto; margin-right:auto; width:30%\"/> <br>\n",
    "\n",
    "([Source](https://www.programiz.com/python-programming/set))<br>\n"
   ]
  },
  {
   "cell_type": "markdown",
   "metadata": {},
   "source": [
    "<a id='oper'></a>\n",
    "## Examples of set operations"
   ]
  },
  {
   "cell_type": "markdown",
   "metadata": {},
   "source": [
    "The sets in python are typically used for mathematical operations like union, intersection, difference and complement etc. We can create a set, access it’s elements and carry out these mathematical operations as shown below."
   ]
  },
  {
   "cell_type": "code",
   "execution_count": 5,
   "metadata": {},
   "outputs": [
    {
     "name": "stdout",
     "output_type": "stream",
     "text": [
      "Union: {'robert', 'danielle', 'jamie', 'nicole', 'jasper'}\n",
      "Intersection: {'jasper', 'danielle'}\n",
      "Set Difference: {'jamie', 'nicole'}\n",
      "Symmetric Difference: {'jamie', 'nicole', 'robert'}\n"
     ]
    }
   ],
   "source": [
    "# Example set operations\n",
    "english_class = set(['jamie', 'danielle', 'jasper', 'nicole'])\n",
    "math_class = set(['danielle', 'jasper', 'robert'])\n",
    "\n",
    "print(\"Union: {}\".format(english_class.union(math_class)))\n",
    "print(\"Intersection: {}\".format(english_class.intersection(math_class)))\n",
    "print(\"Set Difference: {}\".format(english_class - math_class))\n",
    "print(\"Symmetric Difference: {}\".format(english_class.symmetric_difference(math_class)))\n"
   ]
  },
  {
   "cell_type": "markdown",
   "metadata": {},
   "source": [
    "* **Accessing Values in a Set**\n",
    "<br>We cannot access individual values in a set. We can only access all the elements together as shown above. But we can also get a list of individual elements by looping through the set."
   ]
  },
  {
   "cell_type": "code",
   "execution_count": null,
   "metadata": {},
   "outputs": [],
   "source": [
    "Days=set([\"Mon\",\"Tue\",\"Wed\",\"Thu\",\"Fri\",\"Sat\",\"Sun\"])\n",
    " \n",
    "for d in Days:\n",
    "    print(d)"
   ]
  },
  {
   "cell_type": "markdown",
   "metadata": {},
   "source": [
    "* **Adding Items to a Set**\n",
    "<br>We can add elements to a set by using add() method. Again as discussed there is no specific index attached to the newly added element."
   ]
  },
  {
   "cell_type": "code",
   "execution_count": null,
   "metadata": {},
   "outputs": [],
   "source": [
    "Days=set([\"Mon\",\"Tue\",\"Wed\",\"Thu\",\"Fri\",\"Sat\"])\n",
    " \n",
    "Days.add(\"Sun\")\n",
    "print(Days)"
   ]
  },
  {
   "cell_type": "markdown",
   "metadata": {},
   "source": [
    "* **Removing Item from a Set**\n",
    "<br>We can remove elements from a set by using discard() method. Again as discussed there is no specific index attached to the newly added element."
   ]
  },
  {
   "cell_type": "code",
   "execution_count": null,
   "metadata": {},
   "outputs": [],
   "source": [
    "Days=set([\"Mon\",\"Tue\",\"Wed\",\"Thu\",\"Fri\",\"Sat\"])\n",
    " \n",
    "Days.discard(\"Sun\")\n",
    "print(Days)"
   ]
  },
  {
   "cell_type": "markdown",
   "metadata": {},
   "source": [
    "<a id='set'></a>\n",
    "## set() as a useful method of removing duplicates in Python"
   ]
  },
  {
   "cell_type": "markdown",
   "metadata": {},
   "source": [
    "<br>\n",
    "<img src=\"images/dup.png\" style=\"display: block; margin-left:auto; margin-right:auto; width:30%\"/> <br>\n",
    "\n",
    "([Source](https://www.w3resource.com/w3r_images/Python-data-type-list-excercise-7-b.png))<br>\n"
   ]
  },
  {
   "cell_type": "markdown",
   "metadata": {},
   "source": [
    "Let's focus on one of the operations of getting the unique list from a list that contains a possible duplicated. Remove duplicates from list operation has large number of applications and hence, it’s knowledge is good to have. There're lots of methods to remove duplicates:\n",
    "* Naive method: In naive method, we simply traverse the list and append the first occurrence of the element in new list and ignore all the other occurrences of that particular element.\n",
    "* Using list comprehension: This method has working similar to the above method, but this is just a one-liner shorthand of longer method done with the help of list comprehension.\n",
    "* Using collections.OrderedDict.fromkeys() etc.\n",
    "\n",
    "But we will see the usage of set() to remove duplicates!\n",
    "* **Using set():** This is the most popular way by which the duplicated are removed from the list. But the main and notable drawback of this approach is that the ordering of the element is lost in this particular method."
   ]
  },
  {
   "cell_type": "code",
   "execution_count": null,
   "metadata": {},
   "outputs": [],
   "source": [
    "# removing duplicated from list \n",
    "# using set() \n",
    "\n",
    "# initializing list \n",
    "test_list = [1, 5, 3, 6, 3, 5, 6, 1] \n",
    "print (\"The original list is : \" + str(test_list)) \n",
    "\n",
    "# using set() \n",
    "# to remove duplicated \n",
    "# from list \n",
    "test_list = list(set(test_list)) \n",
    "\n",
    "# printing list after removal \n",
    "# distorted ordering \n",
    "print (\"The list after removing duplicates : \" + str(test_list)) \n"
   ]
  },
  {
   "cell_type": "markdown",
   "metadata": {},
   "source": [
    "## Summary\n",
    "* Mathematically a set is a collection of items not in any particular order.\n",
    "* A Python set is similar to this mathematical definition with below additional conditions.\n",
    "* The elements in the set cannot be duplicates.\n",
    "* The elements in the set are immutable(cannot be modified) but the set as a whole is mutable. We can add or remove items from set. But we can not modify any items of it.\n",
    "* We can lots of operations with sets such as remove items, add items, union sets etc.\n",
    "* set() is the most popular way by which the duplicated are removed from the list. \n",
    "\n",
    "_Further reading:_\n",
    "https://www.programiz.com/python-programming/set"
   ]
  },
  {
   "cell_type": "markdown",
   "metadata": {},
   "source": [
    "# Challenges\n",
    "\n",
    "### Question 1:\n",
    "Write a Python function to check if two given sets have no elements in common:\n",
    "- Two input arguments of type set\n",
    "- Return true or false\n"
   ]
  },
  {
   "cell_type": "markdown",
   "metadata": {},
   "source": [
    "### Question 2:\n",
    "Write a Python function to remove the intersection of a 2nd set from the 1st set:\n",
    "- Two input arguments of type set\n",
    "- returns new set object after appropriate operations"
   ]
  },
  {
   "cell_type": "markdown",
   "metadata": {},
   "source": [
    "### Question 3:\n",
    "Write a Python program to find maximum and the minimum value in a set:\n",
    "- Take in one set as an argument\n",
    "- Return two values in the order max_val, min_val"
   ]
  }
 ],
 "metadata": {
  "kernelspec": {
   "display_name": "Python 3",
   "language": "python",
   "name": "python3"
  },
  "language_info": {
   "codemirror_mode": {
    "name": "ipython",
    "version": 3
   },
   "file_extension": ".py",
   "mimetype": "text/x-python",
   "name": "python",
   "nbconvert_exporter": "python",
   "pygments_lexer": "ipython3",
   "version": "3.7.3"
  }
 },
 "nbformat": 4,
 "nbformat_minor": 2
}
